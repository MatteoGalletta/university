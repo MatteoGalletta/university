{
 "cells": [
  {
   "cell_type": "markdown",
   "id": "d531f907-cbcc-4ff0-802a-74ad672cf721",
   "metadata": {},
   "source": [
    "# Esercizio 1"
   ]
  },
  {
   "cell_type": "code",
   "execution_count": 2,
   "id": "c7251755-fd85-415c-b87e-c50743c169c2",
   "metadata": {},
   "outputs": [
    {
     "name": "stdout",
     "output_type": "stream",
     "text": [
      "Requirement already satisfied: matplotlib in ./.venv/lib/python3.13/site-packages (3.10.0)\n",
      "Requirement already satisfied: numpy in ./.venv/lib/python3.13/site-packages (2.2.3)\n",
      "Requirement already satisfied: scipy in ./.venv/lib/python3.13/site-packages (1.15.1)\n",
      "Requirement already satisfied: contourpy>=1.0.1 in ./.venv/lib/python3.13/site-packages (from matplotlib) (1.3.1)\n",
      "Requirement already satisfied: cycler>=0.10 in ./.venv/lib/python3.13/site-packages (from matplotlib) (0.12.1)\n",
      "Requirement already satisfied: fonttools>=4.22.0 in ./.venv/lib/python3.13/site-packages (from matplotlib) (4.56.0)\n",
      "Requirement already satisfied: kiwisolver>=1.3.1 in ./.venv/lib/python3.13/site-packages (from matplotlib) (1.4.8)\n",
      "Requirement already satisfied: packaging>=20.0 in ./.venv/lib/python3.13/site-packages (from matplotlib) (24.2)\n",
      "Requirement already satisfied: pillow>=8 in ./.venv/lib/python3.13/site-packages (from matplotlib) (11.1.0)\n",
      "Requirement already satisfied: pyparsing>=2.3.1 in ./.venv/lib/python3.13/site-packages (from matplotlib) (3.2.1)\n",
      "Requirement already satisfied: python-dateutil>=2.7 in ./.venv/lib/python3.13/site-packages (from matplotlib) (2.9.0.post0)\n",
      "Requirement already satisfied: six>=1.5 in ./.venv/lib/python3.13/site-packages (from python-dateutil>=2.7->matplotlib) (1.17.0)\n",
      "\n",
      "\u001b[1m[\u001b[0m\u001b[34;49mnotice\u001b[0m\u001b[1;39;49m]\u001b[0m\u001b[39;49m A new release of pip is available: \u001b[0m\u001b[31;49m24.3.1\u001b[0m\u001b[39;49m -> \u001b[0m\u001b[32;49m25.0.1\u001b[0m\n",
      "\u001b[1m[\u001b[0m\u001b[34;49mnotice\u001b[0m\u001b[1;39;49m]\u001b[0m\u001b[39;49m To update, run: \u001b[0m\u001b[32;49mpython -m pip install --upgrade pip\u001b[0m\n",
      "Note: you may need to restart the kernel to use updated packages.\n"
     ]
    }
   ],
   "source": [
    "%pip install matplotlib numpy scipy\n",
    "import matplotlib.pyplot as plt\n",
    "import numpy as np\n",
    "from scipy.stats import norm"
   ]
  },
  {
   "cell_type": "code",
   "execution_count": 17,
   "id": "42a2765c-2068-428e-b165-9f01c7f45174",
   "metadata": {},
   "outputs": [],
   "source": [
    "x = np.array([211,\n",
    "332,\n",
    "322,\n",
    "435,\n",
    "275\n",
    "])\n",
    "\n",
    "y = [112,\n",
    "155,\n",
    "131,\n",
    "208,\n",
    "138\n",
    "]"
   ]
  },
  {
   "cell_type": "code",
   "execution_count": 44,
   "id": "e68fb2f2-0a84-4efb-beb2-97c5c5bed9db",
   "metadata": {},
   "outputs": [],
   "source": [
    "x_mean = np.mean(x)\n",
    "y_mean = np.mean(y)\n",
    "b_0 = y_mean - np.cov(x, y, bias=True)[0][1]/np.var(x)*x_mean\n",
    "b_1 = np.cov(x, y, bias=True)[0][1]/np.var(x)"
   ]
  },
  {
   "cell_type": "code",
   "execution_count": 45,
   "id": "8a6a256d-6a9b-4f1e-a58a-5c94288f104a",
   "metadata": {},
   "outputs": [
    {
     "name": "stdout",
     "output_type": "stream",
     "text": [
      "Coefficente di correlazione lineare: 0.9428728197430174\n"
     ]
    }
   ],
   "source": [
    "rho = np.cov(x, y, bias=True)[0][1] / np.sqrt(np.var(x) * np.var(y))\n",
    "print(\"Coefficente di correlazione lineare:\", rho)"
   ]
  },
  {
   "cell_type": "code",
   "execution_count": 46,
   "id": "cb995168-bcb9-4e8c-8cc6-700b870cba3b",
   "metadata": {},
   "outputs": [
    {
     "name": "stdout",
     "output_type": "stream",
     "text": [
      "5430.8\n",
      "5430.8\n",
      "2268.8\n",
      "2268.8\n"
     ]
    }
   ],
   "source": [
    "print(np.mean((x-x_mean)**2))\n",
    "print(np.var(x))\n",
    "\n",
    "print(np.mean((x-x_mean)*(y-y_mean)))\n",
    "print(np.cov(x, y, bias=True)[0][1])"
   ]
  },
  {
   "cell_type": "code",
   "execution_count": 47,
   "id": "85423a34-dad1-4e74-a53d-351b563c7245",
   "metadata": {},
   "outputs": [
    {
     "data": {
      "text/plain": [
       "[<matplotlib.lines.Line2D at 0x7fbb7882afd0>]"
      ]
     },
     "execution_count": 47,
     "metadata": {},
     "output_type": "execute_result"
    },
    {
     "data": {
      "image/png": "[encoded data removed]",
      "text/plain": [
       "<Figure size 640x480 with 1 Axes>"
      ]
     },
     "metadata": {},
     "output_type": "display_data"
    }
   ],
   "source": [
    "plt.plot(x, y, 'o')\n",
    "plt.plot(x, b_0 + b_1*x)"
   ]
  },
  {
   "cell_type": "code",
   "execution_count": 48,
   "id": "11bd5637-7444-41f3-9029-bed7f0b3131c",
   "metadata": {},
   "outputs": [
    {
     "name": "stdout",
     "output_type": "stream",
     "text": [
      "Tempo previsto per processare 200 dati: 100.756986079399\n",
      "Tempo previsto per processare 300 dati: 142.53351992339987\n",
      "Tempo previsto per processare 400 dati: 184.31005376740077\n",
      "Tempo previsto per processare 500 dati: 226.08658761140165\n"
     ]
    }
   ],
   "source": [
    "tempi = [200, 300, 400, 500]\n",
    "for t in tempi:\n",
    "    print(f\"Tempo previsto per processare {t} dati:\", b_0 + b_1*t)"
   ]
  },
  {
   "cell_type": "markdown",
   "id": "e10516e2-26b9-486c-b83a-281a8f97ae05",
   "metadata": {},
   "source": [
    "# Esercizio 2"
   ]
  },
  {
   "cell_type": "code",
   "execution_count": 49,
   "id": "334b57c7-dd9e-4cf8-b9c8-e038f98744a0",
   "metadata": {},
   "outputs": [],
   "source": [
    "x = np.array([0.3,\n",
    "0.4,\n",
    "0.2,\n",
    "0.5,\n",
    "0.6])\n",
    "\n",
    "y = np.array([\n",
    "0.11,\n",
    "0.14,\n",
    "0.06,\n",
    "0.16,\n",
    "0.22])"
   ]
  },
  {
   "cell_type": "code",
   "execution_count": 51,
   "id": "cfff83db-3863-42f8-ad59-e9dcaae69fc7",
   "metadata": {},
   "outputs": [
    {
     "name": "stdout",
     "output_type": "stream",
     "text": [
      "0.9860533131446985\n"
     ]
    }
   ],
   "source": [
    "rho = np.cov(x, y, bias=True)[0][1] / np.sqrt(np.var(x) * np.var(y))\n",
    "print(rho)"
   ]
  },
  {
   "cell_type": "code",
   "execution_count": 57,
   "id": "7b3cfc9d-aadd-4858-a33c-ead5731c23e3",
   "metadata": {},
   "outputs": [
    {
     "data": {
      "text/plain": [
       "(np.float64(-0.010000000000000037), np.float64(0.37000000000000005))"
      ]
     },
     "execution_count": 57,
     "metadata": {},
     "output_type": "execute_result"
    }
   ],
   "source": [
    "x_mean = np.mean(x)\n",
    "y_mean = np.mean(y)\n",
    "b_0 = y_mean - np.cov(x, y, bias=True)[0][1]/np.var(x)*x_mean\n",
    "b_1 = np.cov(x, y, bias=True)[0][1]/np.var(x)\n",
    "b_0, b_1"
   ]
  },
  {
   "cell_type": "code",
   "execution_count": 55,
   "id": "d1fac3fd-a031-42fa-bf2d-2c8011746238",
   "metadata": {},
   "outputs": [],
   "source": [
    "to_predict = np.array([0.35, 0.8])\n",
    "predictions = b_0 + b_1*to_predict"
   ]
  },
  {
   "cell_type": "code",
   "execution_count": 56,
   "id": "cc2d31e6-2441-4487-8347-62ae8d2c95cc",
   "metadata": {},
   "outputs": [
    {
     "data": {
      "text/plain": [
       "[<matplotlib.lines.Line2D at 0x7fbb785a1090>]"
      ]
     },
     "execution_count": 56,
     "metadata": {},
     "output_type": "execute_result"
    },
    {
     "data": {
      "image/png": "[encoded data removed]",
      "text/plain": [
       "<Figure size 640x480 with 1 Axes>"
      ]
     },
     "metadata": {},
     "output_type": "display_data"
    }
   ],
   "source": [
    "plt.plot(x, y, 'o')\n",
    "plt.plot(to_predict, predictions, 'ro')\n",
    "plt.plot(x, b_0 + b_1*x)"
   ]
  },
  {
   "cell_type": "markdown",
   "id": "90caf15d-f886-48e2-858e-88054b5c7a7b",
   "metadata": {},
   "source": [
    "# Esercizio 3"
   ]
  },
  {
   "cell_type": "code",
   "execution_count": 59,
   "id": "699f350c-df79-4580-86a5-fb0e866018e8",
   "metadata": {},
   "outputs": [],
   "source": [
    "X = [0.39, 0.68, 0.82, 1.35, 1.38, 1.62, 1.70, 1.71, 1.85, 2.14, 2.89, 3.69]"
   ]
  },
  {
   "cell_type": "code",
   "execution_count": 85,
   "id": "cd83037f-ddcf-4bc0-b4d1-b620449a628a",
   "metadata": {},
   "outputs": [
    {
     "name": "stdout",
     "output_type": "stream",
     "text": [
      "1.6850000000000003 0.8827938604226924 0.7277632779844692 0.11823821452598482\n"
     ]
    }
   ],
   "source": [
    "X_n = np.mean(X)\n",
    "sig = np.sqrt(np.mean((X-X_n)**2))\n",
    "sk = np.mean((X-X_n)**3) / np.mean((X-X_n)**2)**1.5\n",
    "cu = np.mean((X-X_n)**4) / np.mean((X-X_n)**2)**2 - 3\n",
    "print(X_n, sig, sk, cu)"
   ]
  },
  {
   "cell_type": "markdown",
   "id": "346e1ff0-c5de-4ea8-adfd-cb1d2509a7c6",
   "metadata": {},
   "source": [
    "sk è positivo quindi la distribuzione è spostata verso destra\n",
    "\n",
    "cu è leggermente positivo quindi la distribuzione è più \"appuntita\" di una normale"
   ]
  },
  {
   "cell_type": "code",
   "execution_count": 75,
   "id": "493f177d-94cc-4c21-b81c-496c0aca6ba5",
   "metadata": {},
   "outputs": [
    {
     "name": "stdout",
     "output_type": "stream",
     "text": [
      "0.8501727272727273\n"
     ]
    }
   ],
   "source": [
    "sig_pop = np.sum((X-X_n)**2)/(len(X)-1)\n",
    "print(sig_pop)"
   ]
  }
 ],
 "metadata": {
  "kernelspec": {
   "display_name": ".venv",
   "language": "python",
   "name": ".venv"
  },
  "language_info": {
   "codemirror_mode": {
    "name": "ipython",
    "version": 3
   },
   "file_extension": ".py",
   "mimetype": "text/x-python",
   "name": "python",
   "nbconvert_exporter": "python",
   "pygments_lexer": "ipython3",
   "version": "3.13.1"
  }
 },
 "nbformat": 4,
 "nbformat_minor": 5
}
