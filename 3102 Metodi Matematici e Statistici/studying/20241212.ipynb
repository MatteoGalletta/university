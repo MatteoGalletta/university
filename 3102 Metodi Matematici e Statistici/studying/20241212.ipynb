{
 "cells": [
  {
   "cell_type": "markdown",
   "id": "d531f907-cbcc-4ff0-802a-74ad672cf721",
   "metadata": {},
   "source": [
    "# Esercizio 1\n",
    "Una ditta acquista componenti semplici da un’altra ditta, in lotti da 5000 pezzi, e vuole avere la garanzia\n",
    "che al massimo il 4% di questi pezzi siano difettosi. Prima di utilizzare questi componenti, perciò, da ogni\n",
    "lotto di 5000 viene selezionato un campione di 150 pezzi che vengno sottoposti a collaudo. Se al massimo k\n",
    "dei pezzi collaudati non funzionano, la partita viene accettata, altrimenti verrà respinta al fornitore.\n",
    "Come si deve scegliere k aﬃnchè la probabilità di accettare un lotto con almeno il 4% dei pezzi difettosi\n",
    "sia inferiore al 5%? Per rispondere, si imposti un test di ipotesi, scegliendo opportunamente l’ipotesi nulla,\n",
    "l’ipotsi alternativa e il criterio di rigetto. Spiegare le eventuali approssimazioni fatte."
   ]
  },
  {
   "cell_type": "code",
   "execution_count": 5,
   "id": "c7251755-fd85-415c-b87e-c50743c169c2",
   "metadata": {},
   "outputs": [
    {
     "name": "stdout",
     "output_type": "stream",
     "text": [
      "Requirement already satisfied: matplotlib in ./.venv/lib/python3.13/site-packages (3.10.0)\n",
      "Requirement already satisfied: numpy in ./.venv/lib/python3.13/site-packages (2.2.3)\n",
      "Requirement already satisfied: scipy in ./.venv/lib/python3.13/site-packages (1.15.1)\n",
      "Requirement already satisfied: contourpy>=1.0.1 in ./.venv/lib/python3.13/site-packages (from matplotlib) (1.3.1)\n",
      "Requirement already satisfied: cycler>=0.10 in ./.venv/lib/python3.13/site-packages (from matplotlib) (0.12.1)\n",
      "Requirement already satisfied: fonttools>=4.22.0 in ./.venv/lib/python3.13/site-packages (from matplotlib) (4.56.0)\n",
      "Requirement already satisfied: kiwisolver>=1.3.1 in ./.venv/lib/python3.13/site-packages (from matplotlib) (1.4.8)\n",
      "Requirement already satisfied: packaging>=20.0 in ./.venv/lib/python3.13/site-packages (from matplotlib) (24.2)\n",
      "Requirement already satisfied: pillow>=8 in ./.venv/lib/python3.13/site-packages (from matplotlib) (11.1.0)\n",
      "Requirement already satisfied: pyparsing>=2.3.1 in ./.venv/lib/python3.13/site-packages (from matplotlib) (3.2.1)\n",
      "Requirement already satisfied: python-dateutil>=2.7 in ./.venv/lib/python3.13/site-packages (from matplotlib) (2.9.0.post0)\n",
      "Requirement already satisfied: six>=1.5 in ./.venv/lib/python3.13/site-packages (from python-dateutil>=2.7->matplotlib) (1.17.0)\n",
      "\n",
      "\u001b[1m[\u001b[0m\u001b[34;49mnotice\u001b[0m\u001b[1;39;49m]\u001b[0m\u001b[39;49m A new release of pip is available: \u001b[0m\u001b[31;49m24.3.1\u001b[0m\u001b[39;49m -> \u001b[0m\u001b[32;49m25.0.1\u001b[0m\n",
      "\u001b[1m[\u001b[0m\u001b[34;49mnotice\u001b[0m\u001b[1;39;49m]\u001b[0m\u001b[39;49m To update, run: \u001b[0m\u001b[32;49mpip install --upgrade pip\u001b[0m\n",
      "Note: you may need to restart the kernel to use updated packages.\n"
     ]
    }
   ],
   "source": [
    "%pip install matplotlib numpy scipy\n",
    "import matplotlib.pyplot as plt\n",
    "import numpy as np\n",
    "from scipy.stats import norm"
   ]
  },
  {
   "cell_type": "code",
   "execution_count": 25,
   "id": "d9e6ea24-6375-47ad-90bc-4a88d8356009",
   "metadata": {},
   "outputs": [],
   "source": [
    "alpha = 0.05\n",
    "p_0 = 0.04\n",
    "n = 150"
   ]
  },
  {
   "cell_type": "markdown",
   "id": "3ff2f945-db4a-4c34-8df3-cfd9e197a26b",
   "metadata": {},
   "source": [
    "Ipotesi nulla $H_0: p_0 <= 4\\%$\n",
    "\n",
    "Ipotesi alternativa $H_1: p > 4 \\%$\n",
    "\n",
    "La soluzione equivale a trovare una percentuale p che sia minore di 4 che garantisca comunque di ottenere pezzi difettosi con un livello di significatività inferiore a 5%.\n",
    "Se esiste, allora abbiamo trovato la percentuale da prendere dai 150 pezzi"
   ]
  },
  {
   "cell_type": "code",
   "execution_count": 29,
   "id": "a1436e48-e676-4137-b8d9-32654c4a6d44",
   "metadata": {},
   "outputs": [],
   "source": [
    "qalpha = norm.ppf(alpha)"
   ]
  },
  {
   "cell_type": "code",
   "execution_count": 33,
   "id": "052512ea-6c20-4b83-9ff3-c8d98d3ed7ee",
   "metadata": {},
   "outputs": [],
   "source": [
    "k = ((qalpha * np.sqrt(p_0 * (1 - p_0)))/np.sqrt(n) + p_0) * n"
   ]
  },
  {
   "cell_type": "markdown",
   "id": "464ea57c-e4a9-452f-85f6-1c3cbc8a0e21",
   "metadata": {},
   "source": [
    "k"
   ]
  },
  {
   "cell_type": "markdown",
   "id": "1096ed09-2e75-4e7d-9ba9-c14592552795",
   "metadata": {},
   "source": [
    "# Esercizio 2\n",
    "La precisione di una macchina che produce componenti di dimensioni specificate viene tenuta sotto controllo\n",
    "con verifiche campionarie: la dimensione specificata è μ0 = 3.5mm. Se su 150 pezzi prodotti si è riscontrata\n",
    "una media campionaria pari a Xn = 3.42mm e una varianza campionaria pari a Sn = 0.2209mm2, il processo\n",
    "va considerato “fuori controllo”? Rispondere poi alla stessa domanda supponendo che le stesse statistiche\n",
    "siano state riscontrate su un campione di ampiezza 60"
   ]
  },
  {
   "cell_type": "code",
   "execution_count": 36,
   "id": "17297389-dcb8-45e9-a085-b80cbe79b92f",
   "metadata": {},
   "outputs": [],
   "source": [
    "import matplotlib.pyplot as plt\n",
    "import numpy as np\n",
    "from scipy.stats import t"
   ]
  },
  {
   "cell_type": "code",
   "execution_count": 53,
   "id": "3af112a2-9562-4ae7-bb57-a7e2cea1ebdf",
   "metadata": {},
   "outputs": [],
   "source": [
    "mu_0 = 3.5\n",
    "var = 0.2209\n",
    "S_n = np.sqrt(var)\n",
    "X_n = 3.42"
   ]
  },
  {
   "cell_type": "code",
   "execution_count": 54,
   "id": "54186c10-94f6-4efc-867b-8e3077c0a2a1",
   "metadata": {},
   "outputs": [
    {
     "name": "stdout",
     "output_type": "stream",
     "text": [
      "0.038805309388787235\n"
     ]
    }
   ],
   "source": [
    "n = 150\n",
    "T_n = (X_n - mu_0)/S_n*np.sqrt(n)\n",
    "p = 2*(1 - t.cdf(np.abs(T_n), n-1))\n",
    "print(p)"
   ]
  },
  {
   "cell_type": "markdown",
   "id": "26a710d2-1430-4125-8426-8e9c57b4a421",
   "metadata": {},
   "source": [
    "Possiamo confermare con un livello di significatività del 3% che il processo è fuori controllo"
   ]
  },
  {
   "cell_type": "code",
   "execution_count": 55,
   "id": "0e7e79e8-4eef-4a5c-9e73-197ccd4dffea",
   "metadata": {},
   "outputs": [
    {
     "name": "stdout",
     "output_type": "stream",
     "text": [
      "0.1924443567539622\n"
     ]
    }
   ],
   "source": [
    "n = 60\n",
    "T_n = (X_n - mu_0)/S_n*np.sqrt(n)\n",
    "p = 2*(1 - t.cdf(np.abs(T_n), n-1))\n",
    "print(p)"
   ]
  },
  {
   "cell_type": "markdown",
   "id": "18b70050-753c-4f2b-9052-82bdf58341c7",
   "metadata": {},
   "source": [
    "A questo punto alpha raggiunge il 20%, dando un 80% di possibilità di avere un processo fuori controllo"
   ]
  },
  {
   "cell_type": "markdown",
   "id": "3f8d4072-16c6-4a0a-a85f-6f5aafa61e28",
   "metadata": {},
   "source": [
    "# Esercizio 3\n",
    "Da due popolazioni normali indipendenti X, Y , si sono estratti due campioni di ampiezza rispettivamente\n",
    "2\n",
    "= 9.3\n",
    "n = 40 e m = 50, con media campionaria X n = 2.91 e Y m = 1.98. La varianza dei dati è nota ed è σX\n",
    "2\n",
    "e σY = 2.1. In base a questi dati si può affermare al livello di significatività del 5% che µX > µY ?"
   ]
  },
  {
   "cell_type": "code",
   "execution_count": 12,
   "id": "5f44e077-2f04-4e10-ab03-3a52bd2d6e0a",
   "metadata": {},
   "outputs": [],
   "source": [
    "import matplotlib.pyplot as plt\n",
    "import numpy as np\n",
    "from scipy.stats import norm"
   ]
  },
  {
   "cell_type": "markdown",
   "id": "9ab5f1b7-0a1f-4721-bbe5-47475a156bd8",
   "metadata": {},
   "source": [
    "Il test da effettuare ricade in quello della \"Media di coppie di popolazioni indipendenti con varianza nota\".\n",
    "L'obiettivo è quello di verificare che la media della prima popolazione sia superiore di quella della seconda popolazione con un livello di significatività del 5%.\n",
    "Le ipotesi sono le seguenti:\n",
    "- Ipotesi nulla H0: $\\mu_x \\leq \\mu_y$\n",
    "- Ipotesi alternativa H1: $\\mu_x  > \\mu_y$\n",
    "\n",
    "In questo caso ci troviamo quindi nel caso unilatero destro."
   ]
  },
  {
   "cell_type": "code",
   "execution_count": 9,
   "id": "05076bd4-9e51-4163-a7ac-367d020f7374",
   "metadata": {},
   "outputs": [],
   "source": [
    "n = 40\n",
    "m = 50\n",
    "X_n = 2.91\n",
    "Y_m = 1.98\n",
    "var_x = 9.3\n",
    "var_y = 2.1\n",
    "\n",
    "alpha = 0.05"
   ]
  },
  {
   "cell_type": "code",
   "execution_count": 10,
   "id": "184e1ed8-6028-447a-b8c4-34bec2aad93e",
   "metadata": {},
   "outputs": [
    {
     "name": "stdout",
     "output_type": "stream",
     "text": [
      "1.7750548363729917\n"
     ]
    }
   ],
   "source": [
    "Z_n = (X_n - Y_m)/np.sqrt(var_x / n + var_y / m)\n",
    "print(Z_n)"
   ]
  },
  {
   "cell_type": "code",
   "execution_count": 11,
   "id": "757d1c55-3675-4c90-b17c-c198dc7ddcb7",
   "metadata": {},
   "outputs": [
    {
     "name": "stdout",
     "output_type": "stream",
     "text": [
      "1.6448536269514722\n"
     ]
    }
   ],
   "source": [
    "phi = norm.ppf(1 - alpha)\n",
    "print(phi)"
   ]
  },
  {
   "cell_type": "markdown",
   "id": "ea76460d-23b1-4dcd-8038-f8538175ba33",
   "metadata": {},
   "source": [
    "Siccome Z_n è maggiore di phi, il campione si trova nella zona di rigetto.\n",
    "Possiamo quindi rigettare l'ipotesi nulla e confermare invece quella alternativa.\n",
    "\n",
    "Affermiamo quindi, con un livello di significatività del 5%, che $\\mu_x > \\mu_y$"
   ]
  }
 ],
 "metadata": {
  "kernelspec": {
   "display_name": ".venv",
   "language": "python",
   "name": ".venv"
  },
  "language_info": {
   "codemirror_mode": {
    "name": "ipython",
    "version": 3
   },
   "file_extension": ".py",
   "mimetype": "text/x-python",
   "name": "python",
   "nbconvert_exporter": "python",
   "pygments_lexer": "ipython3",
   "version": "3.13.1"
  }
 },
 "nbformat": 4,
 "nbformat_minor": 5
}
