{
  "nbformat": 4,
  "nbformat_minor": 0,
  "metadata": {
    "colab": {
      "provenance": []
    },
    "kernelspec": {
      "name": "python3",
      "display_name": "Python 3"
    },
    "language_info": {
      "name": "python"
    }
  },
  "cells": [
    {
      "cell_type": "code",
      "execution_count": 1,
      "metadata": {
        "id": "bh_ayWdv5We_"
      },
      "outputs": [],
      "source": [
        "from pydrive2.auth import GoogleAuth\n",
        "from pydrive2.drive import GoogleDrive\n",
        "from google.colab import auth\n",
        "from oauth2client.client import GoogleCredentials\n",
        "\n",
        "# Authenticate and create the PyDrive client\n",
        "auth.authenticate_user()\n",
        "gauth = GoogleAuth()\n",
        "gauth.credentials = GoogleCredentials.get_application_default()\n",
        "drive = GoogleDrive(gauth)"
      ]
    },
    {
      "cell_type": "markdown",
      "source": [],
      "metadata": {
        "id": "n4ASKZr85egf"
      }
    },
    {
      "cell_type": "code",
      "source": [
        "id='1qnY85yunm55aXBbDXY68o3BNn18zK6n0'\n",
        "downloaded = drive.CreateFile({'id': id})\n",
        "downloaded.GetContentFile('unict.txt.gz')"
      ],
      "metadata": {
        "id": "1OXnII435ey7"
      },
      "execution_count": 2,
      "outputs": []
    },
    {
      "cell_type": "markdown",
      "source": [
        "Importiamo le librerie necessarie per il nostro esercizio"
      ],
      "metadata": {
        "id": "8ljmSz0K5gIx"
      }
    },
    {
      "cell_type": "code",
      "source": [
        "import pandas as pd\n",
        "import numpy as np\n",
        "import matplotlib.pyplot as plt\n",
        "%matplotlib inline"
      ],
      "metadata": {
        "id": "y_s2-IMP5fyk"
      },
      "execution_count": 3,
      "outputs": []
    },
    {
      "cell_type": "markdown",
      "source": [
        "\n",
        "Per questa esercitazione useremo [NetworkX](https://networkx.github.io), un pacchetto Python per la creazione, manipolazione e lo studio della strtuttura,della dinamica di reti complesse ([tutorial](https://networkx.org/documentation/stable/tutorial.html)).\n",
        "\n",
        "\n",
        "Il dataset che analizzeremo è uno sottinsime del grafo del web centrato su [unict.it](https://unict.it), I nodi rappresentano pagine dell'Università di Catania e gli archi diretti rappresentano i link tra questi."
      ],
      "metadata": {
        "id": "k8L9sRoR5zid"
      }
    },
    {
      "cell_type": "code",
      "source": [
        "import networkx as nx\n",
        "\n",
        "G = nx.read_edgelist('unict.txt.gz', create_using=nx.DiGraph)"
      ],
      "metadata": {
        "id": "MZQBOLpz5zSS"
      },
      "execution_count": 4,
      "outputs": []
    },
    {
      "cell_type": "markdown",
      "source": [],
      "metadata": {
        "id": "S_Rx6Pn22rtl"
      }
    },
    {
      "cell_type": "code",
      "source": [
        "def print_graph_info(G, directed=True):\n",
        "  print(\"Numero di nodi:\", len(G.nodes))\n",
        "  print(\"Numero di archi:\", len(G.edges))\n",
        "  if directed:\n",
        "    print(\"in-degree medio:\", sum(dict(G.in_degree).values()) / len(G.nodes))\n",
        "    print(\"out-degree medio:\", sum(dict(G.out_degree).values()) / len(G.nodes))\n",
        "  else:\n",
        "    print(\"degree medio:\", sum(dict(G.degree).values()) / len(G.nodes))"
      ],
      "metadata": {
        "id": "aEV2w0bg2sLq"
      },
      "execution_count": 5,
      "outputs": []
    },
    {
      "cell_type": "code",
      "source": [
        "print_graph_info(G, True)"
      ],
      "metadata": {
        "colab": {
          "base_uri": "https://localhost:8080/"
        },
        "id": "_8X-BOAS4vLo",
        "outputId": "7b9cbc38-0a77-45b5-8412-834e9524ffa8"
      },
      "execution_count": 6,
      "outputs": [
        {
          "output_type": "stream",
          "name": "stdout",
          "text": [
            "Numero di nodi: 4971\n",
            "Numero di archi: 27460\n",
            "in-degree medio: 5.524039428686381\n",
            "out-degree medio: 5.524039428686381\n"
          ]
        }
      ]
    },
    {
      "cell_type": "markdown",
      "source": [
        "# Esercizio (consegna 15 maggio)\n",
        "\n",
        "* visualizare la distribuzione dei degree (in-degree e out-degree) in formato log-log."
      ],
      "metadata": {
        "id": "vE4XWSC86tRg"
      }
    },
    {
      "cell_type": "code",
      "source": [
        "# 2. Visualize in- and out-degree distributions (log–log)\n",
        "in_degs  = [d for _, d in G.in_degree()]\n",
        "out_degs = [d for _, d in G.out_degree()]\n",
        "\n",
        "# In-degree\n",
        "plt.figure()\n",
        "cnts = pd.Series(in_degs).value_counts().sort_index()\n",
        "plt.loglog(cnts.index, cnts.values, marker='o', linestyle='')\n",
        "plt.title(\"Distribuzione In-Degree (log-log)\")\n",
        "plt.xlabel(\"In-Degree\")\n",
        "plt.ylabel(\"Frequenza\")\n",
        "plt.show()\n",
        "\n",
        "# Out-degree\n",
        "plt.figure()\n",
        "cnts = pd.Series(out_degs).value_counts().sort_index()\n",
        "plt.loglog(cnts.index, cnts.values, marker='o', linestyle='')\n",
        "plt.title(\"Distribuzione Out-Degree (log-log)\")\n",
        "plt.xlabel(\"Out-Degree\")\n",
        "plt.ylabel(\"Frequenza\")\n",
        "plt.show()"
      ],
      "metadata": {
        "colab": {
          "base_uri": "https://localhost:8080/",
          "height": 935
        },
        "id": "i4WFNE3GdTAC",
        "outputId": "dc537347-3cb6-4e7c-f17e-900ed6edeaf0"
      },
      "execution_count": 25,
      "outputs": [
        {
          "output_type": "display_data",
          "data": {
            "text/plain": [
              "<Figure size 640x480 with 1 Axes>"
            ],
            "image/png": "[encoded data removed]"
          },
          "metadata": {}
        },
        {
          "output_type": "display_data",
          "data": {
            "text/plain": [
              "<Figure size 640x480 with 1 Axes>"
            ],
            "image/png": "[encoded data removed]"
          },
          "metadata": {}
        }
      ]
    },
    {
      "cell_type": "markdown",
      "source": [
        "* Utilizzare NetworkX per identificare la componente debolmente connessa più grande del grafo G. D'ora in poi, utilizzare questa componente connessa per tutte le operazioni successive. D'ora in poi, si utilizzerà questa componente connessa per tutte le operazioni seguenti. [[Informazioni]](https://networkx.org/documentation/stable/reference/algorithms/generated/networkx.algorithms.components.weakly_connected_components.html)\n",
        "\n",
        "\n",
        "Stampare le sue informazioni.\n",
        "\n"
      ],
      "metadata": {
        "id": "XhCp_GwJ3Hee"
      }
    },
    {
      "cell_type": "code",
      "source": [
        "# 3. Largest weakly connected component\n",
        "wccs = list(nx.weakly_connected_components(G))\n",
        "largest = max(wccs, key=len)\n",
        "G_lcc = G.subgraph(largest).copy()\n",
        "print(\"→ Component debolmente connessa più grande:\")\n",
        "print_graph_info(G_lcc, directed=True)"
      ],
      "metadata": {
        "colab": {
          "base_uri": "https://localhost:8080/"
        },
        "id": "PUT9eGC2aPr5",
        "outputId": "27c5504c-b46b-4321-c2ac-50d8e1e46524"
      },
      "execution_count": 13,
      "outputs": [
        {
          "output_type": "stream",
          "name": "stdout",
          "text": [
            "→ Component debolmente connessa più grande:\n",
            "Numero di nodi: 4971\n",
            "Numero di archi: 27460\n",
            "in-degree medio: 5.524039428686381\n",
            "out-degree medio: 5.524039428686381\n"
          ]
        }
      ]
    },
    {
      "cell_type": "markdown",
      "source": [
        "* Calcoare il vettore di PageRank con i parametri di default in  NetworkX: [https://networkx.github.io/documentation/stable/reference/algorithms/generated/networkx.algorithms.link_analysis.pagerank_alg.pagerank.html#networkx.algorithms.link_analysis.pagerank_alg.pageranky](https://networkx.github.io/documentation/stable/reference/algorithms/generated/networkx.algorithms.link_analysis.pagerank_alg.pagerank.html#networkx.algorithms.link_analysis.pagerank_alg.pagerank)"
      ],
      "metadata": {
        "id": "Ac4cEc305bwK"
      }
    },
    {
      "cell_type": "code",
      "source": [
        "pr_original = nx.pagerank(G)"
      ],
      "metadata": {
        "id": "jVpxSF4w3Hrq"
      },
      "execution_count": 18,
      "outputs": []
    },
    {
      "cell_type": "markdown",
      "source": [
        "Utilizzare il modello di Barabási e Albert (rete scale-free) per generare grafi con proprietà topologiche simili al grafo del Web.\n",
        "\n",
        "Se completate i passaggi seguenti, dovreste ottenere una prova empirica che il modello Random Graph è inferiore al modello di Barabási-Albert quando si tratta di generare un grafo simile al World Wide Web!\n",
        "\n",
        "Per questo motivo, utilizzeremo due diversi metodi di generazione di grafi e poi verificheremo quanto bene essi approssimano la struttura del grafo del Web, confrontando i rispettivi vettori PageRank. [[Generatori di grafi di NetworkX]]\n",
        "(https://networkx.github.io/documentation/stable/reference/generators.html#)\n",
        "\n",
        "\n",
        "Utilizzando i parametri seed = 1 e directed=False, ove applicabile, generare:\n",
        "\n",
        "\n",
        "1. un grafo casuale (con il metodo veloce), impostando n pari al numero di nodi della componente connessa originale e p = 0,00008\n",
        "2. un grafo di Barabasi-Albert (con il metodo standard), ponendo n uguale al numero di nodi della componente connessa originale e trovando il giusto valore intero per m in modo che il numero di archi risultante approssimi per eccesso (il valore più vicino e soddisfacente ≥ ) il numero di archi della componente connessa originale (la più grande componente debolmente connessa ottenuta in precedenza)\n",
        "e calcolare i vettori PageRank per entrambi i grafi. Stampare le informazioni del grafo generato."
      ],
      "metadata": {
        "id": "Mj9ZargK5wUm"
      }
    },
    {
      "cell_type": "code",
      "source": [
        "# 5. Generate comparison graphs on n = |largest component|\n",
        "n = G_lcc.number_of_nodes()\n",
        "\n",
        "# 5.1 Random G(n,p)\n",
        "p = 0.00008\n",
        "G_rand = nx.fast_gnp_random_graph(n, p, seed=1, directed=False)\n",
        "print(\"\\nGrafo casuale G_rand:\")\n",
        "print_graph_info(G_rand, directed=False)\n",
        "\n",
        "# 5.2 Barabási–Albert G(n,m) with m ≈ (average degree)/2\n",
        "avg_deg = np.mean([d for _, d in G_lcc.to_undirected().degree()])\n",
        "m = max(1, int(round(avg_deg / 2)))\n",
        "G_ba = nx.barabasi_albert_graph(n, m, seed=1)\n",
        "print(\"\\nGrafo Barabási–Albert G_ba:\")\n",
        "print_graph_info(G_ba, directed=False)"
      ],
      "metadata": {
        "id": "xjr6ACUi6gYX",
        "colab": {
          "base_uri": "https://localhost:8080/"
        },
        "outputId": "25221d6b-ad01-41a0-832c-72107e03164e"
      },
      "execution_count": 27,
      "outputs": [
        {
          "output_type": "stream",
          "name": "stdout",
          "text": [
            "\n",
            "Grafo casuale G_rand:\n",
            "Numero di nodi: 4971\n",
            "Numero di archi: 953\n",
            "degree medio: 0.3834238583785959\n",
            "\n",
            "Grafo Barabási–Albert G_ba:\n",
            "Numero di nodi: 4971\n",
            "Numero di archi: 24830\n",
            "degree medio: 9.989941661637497\n"
          ]
        }
      ]
    },
    {
      "cell_type": "markdown",
      "source": [
        "Confrontate i vettori PageRank ottenuti sui grafi generati con il vettore PageRank calcolato sulla componente connessa originale. Ordinare le componenti di ciascun vettore per valore e utilizzare la similarità del coseno come misura di similarità.\n",
        "\n",
        "Sentitevi liberi di utilizzare qualsiasi implementazione della similarità del coseno disponibile in librerie o di implementare la vostra con numpy.\n",
        "\n"
      ],
      "metadata": {
        "id": "gHcrzNGB6gza"
      }
    },
    {
      "cell_type": "code",
      "source": [
        "# 6. PageRank on the generated graphs\n",
        "pr_original = nx.pagerank(G)\n",
        "pr_rand = nx.pagerank(G_rand)\n",
        "pr_ba   = nx.pagerank(G_ba)\n",
        "\n",
        "# 7. Cosine similarity between pr_rand and pr_ba\n",
        "from numpy.linalg import norm\n",
        "v_original = np.array([pr_original[i] for i in sorted(G.nodes())])\n",
        "v_rand = np.array([pr_rand[i] for i in sorted(G_rand.nodes())])\n",
        "v_ba = np.array([pr_ba[i] for i in sorted(G_ba.nodes())])\n",
        "def cos_sim(a, b):\n",
        "  return np.dot(a, b) / (norm(a) * norm(b))\n",
        "print(f\"\\nSimilarità del coseno tra PageRank(G_rand) e PageRank(G_ba): {cos_sim(v_rand, v_ba):.4f}\")\n",
        "print(f\"\\nSimilarità del coseno tra PageRank(G) e PageRank(G_ba): {cos_sim(v_original, v_ba):.4f}\")\n",
        "print(f\"\\nSimilarità del coseno tra PageRank(G) e PageRank(G_rand): {cos_sim(v_original, v_rand):.4f}\")"
      ],
      "metadata": {
        "id": "hbGTT2pM7ClB",
        "colab": {
          "base_uri": "https://localhost:8080/"
        },
        "outputId": "870c26b6-2505-4301-decd-2f5ae6fcd5ae"
      },
      "execution_count": 24,
      "outputs": [
        {
          "output_type": "stream",
          "name": "stdout",
          "text": [
            "\n",
            "Similarità del coseno tra PageRank(G_rand) e PageRank(G_ba): 0.5078\n",
            "\n",
            "Similarità del coseno tra PageRank(G) e PageRank(G_ba): 0.6278\n",
            "\n",
            "Similarità del coseno tra PageRank(G) e PageRank(G_rand): 0.5745\n"
          ]
        }
      ]
    }
  ]
}