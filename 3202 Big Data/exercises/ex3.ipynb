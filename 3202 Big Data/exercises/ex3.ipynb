{
  "nbformat": 4,
  "nbformat_minor": 0,
  "metadata": {
    "colab": {
      "provenance": []
    },
    "kernelspec": {
      "name": "python3",
      "display_name": "Python 3"
    },
    "language_info": {
      "name": "python"
    }
  },
  "cells": [
    {
      "cell_type": "code",
      "source": [
        "import pandas as pd\n",
        "import numpy as np\n",
        "import matplotlib.pyplot as plt\n",
        "%matplotlib inline\n",
        "\n",
        "import pyspark\n",
        "from pyspark.sql import *\n",
        "from pyspark.sql.types import *\n",
        "from pyspark.sql.functions import *\n",
        "from pyspark import SparkContext, SparkConf"
      ],
      "metadata": {
        "id": "TAHLJQgBzXrU"
      },
      "execution_count": 1,
      "outputs": []
    },
    {
      "cell_type": "code",
      "source": [
        "# creiamo la sessione\n",
        "conf = SparkConf().set(\"spark.ui.port\", \"4050\")\n",
        "\n",
        "# creiamo il contesto\n",
        "sc = pyspark.SparkContext(conf=conf)\n",
        "spark = SparkSession.builder.getOrCreate()"
      ],
      "metadata": {
        "id": "ansutjdizYw_"
      },
      "execution_count": 2,
      "outputs": []
    },
    {
      "cell_type": "markdown",
      "source": [
        "# I dati\n",
        "\n",
        "In questo notebook utilizzeremo il dataset [MovieLens](https://grouplens.org/datasets/movielens/), in particolare il dataset 100K contenente circa 100000 ratings, da 1000 utenti di cierca 1700 film.\n",
        "\n",
        "Caricheremo i rating nelle percentuali 80%-20% training/test, mentre il dataframe items contiene i il titolo del film e ulteriori informazioni.\n",
        "\n"
      ],
      "metadata": {
        "id": "pj4mUnGdy4_L"
      }
    },
    {
      "cell_type": "code",
      "execution_count": 3,
      "metadata": {
        "id": "cPReXBi1yhs6"
      },
      "outputs": [],
      "source": [
        "from pydrive2.auth import GoogleAuth\n",
        "from pydrive2.drive import GoogleDrive\n",
        "from google.colab import auth\n",
        "from oauth2client.client import GoogleCredentials\n",
        "\n",
        "# autenticazione e creazione del client PyDrive\n",
        "auth.authenticate_user()\n",
        "gauth = GoogleAuth()\n",
        "gauth.credentials = GoogleCredentials.get_application_default()\n",
        "drive = GoogleDrive(gauth)"
      ]
    },
    {
      "cell_type": "code",
      "source": [
        "id='1yQh7-j1Iw_C39dJq17yLv89uSiD8mcsq'\n",
        "downloaded = drive.CreateFile({'id': id})\n",
        "downloaded.GetContentFile('MovieLens.training')\n",
        "\n",
        "\n",
        "id='1t_8KZGUNgJGwxhvTzvs0CwmIoaTqGHbl'\n",
        "downloaded = drive.CreateFile({'id': id})\n",
        "downloaded.GetContentFile('MovieLens.test')\n",
        "\n",
        "id='1Kp09G2Iw0mSN-1xZJLWInSNG7v8TM81S'\n",
        "downloaded = drive.CreateFile({'id': id})\n",
        "downloaded.GetContentFile('MovieLens.item')"
      ],
      "metadata": {
        "id": "FWzBOba3zW7v"
      },
      "execution_count": 4,
      "outputs": []
    },
    {
      "cell_type": "markdown",
      "source": [],
      "metadata": {
        "id": "XdLMKw171wAd"
      }
    },
    {
      "cell_type": "code",
      "source": [
        "schema_ratings = StructType([\n",
        "    StructField(\"user_id\", IntegerType(), False),\n",
        "    StructField(\"item_id\", IntegerType(), False),\n",
        "    StructField(\"rating\", IntegerType(), False),\n",
        "    StructField(\"timestamp\", IntegerType(), False)])\n",
        "\n",
        "schema_items = StructType([\n",
        "    StructField(\"item_id\", IntegerType(), False),\n",
        "    StructField(\"movie\", StringType(), False)])\n",
        "\n",
        "training = spark.read.option(\"sep\", \"\\t\").csv(\"MovieLens.training\", header=False, schema=schema_ratings)\n",
        "test = spark.read.option(\"sep\", \"\\t\").csv(\"MovieLens.test\", header=False, schema=schema_ratings)\n",
        "items = spark.read.option(\"sep\", \"|\").csv(\"MovieLens.item\", header=False, schema=schema_items)"
      ],
      "metadata": {
        "id": "RaJem2E41wXB"
      },
      "execution_count": 5,
      "outputs": []
    },
    {
      "cell_type": "markdown",
      "source": [],
      "metadata": {
        "id": "53FPG7Fe19JX"
      }
    },
    {
      "cell_type": "code",
      "source": [
        "training.printSchema()\n",
        "test.printSchema()\n",
        "training.take(3)"
      ],
      "metadata": {
        "colab": {
          "base_uri": "https://localhost:8080/"
        },
        "id": "tUnbYxbV19ba",
        "outputId": "9d2eac89-0166-4e40-91e2-63ae58440aa9"
      },
      "execution_count": 6,
      "outputs": [
        {
          "output_type": "stream",
          "name": "stdout",
          "text": [
            "root\n",
            " |-- user_id: integer (nullable = true)\n",
            " |-- item_id: integer (nullable = true)\n",
            " |-- rating: integer (nullable = true)\n",
            " |-- timestamp: integer (nullable = true)\n",
            "\n",
            "root\n",
            " |-- user_id: integer (nullable = true)\n",
            " |-- item_id: integer (nullable = true)\n",
            " |-- rating: integer (nullable = true)\n",
            " |-- timestamp: integer (nullable = true)\n",
            "\n"
          ]
        },
        {
          "output_type": "execute_result",
          "data": {
            "text/plain": [
              "[Row(user_id=1, item_id=1, rating=5, timestamp=874965758),\n",
              " Row(user_id=1, item_id=2, rating=3, timestamp=876893171),\n",
              " Row(user_id=1, item_id=3, rating=4, timestamp=878542960)]"
            ]
          },
          "metadata": {},
          "execution_count": 6
        }
      ]
    },
    {
      "cell_type": "markdown",
      "source": [],
      "metadata": {
        "id": "chPG-biI2DVH"
      }
    },
    {
      "cell_type": "code",
      "source": [
        "items.printSchema()\n",
        "items.take(3)"
      ],
      "metadata": {
        "colab": {
          "base_uri": "https://localhost:8080/"
        },
        "id": "fEt2PF-c2Dw4",
        "outputId": "138f6cc4-31e0-48e3-b670-0f244531f054"
      },
      "execution_count": 7,
      "outputs": [
        {
          "output_type": "stream",
          "name": "stdout",
          "text": [
            "root\n",
            " |-- item_id: integer (nullable = true)\n",
            " |-- movie: string (nullable = true)\n",
            "\n"
          ]
        },
        {
          "output_type": "execute_result",
          "data": {
            "text/plain": [
              "[Row(item_id=1, movie='Toy Story (1995)'),\n",
              " Row(item_id=2, movie='GoldenEye (1995)'),\n",
              " Row(item_id=3, movie='Four Rooms (1995)')]"
            ]
          },
          "metadata": {},
          "execution_count": 7
        }
      ]
    },
    {
      "cell_type": "markdown",
      "source": [
        "# Esercizio 1 (Consegna 5 maggio)\n",
        "\n",
        "- calcolare alcune statistiche sui dati. Numero di revisioni per ogni film. Rating medio per ogni film, rating medio per ogni utente\n",
        "- Usando il training set, addestrare un modello con  Alternating Least Squares method disponibile in Spark MLlib: [https://spark.apache.org/docs/latest/ml-collaborative-filtering.html](https://spark.apache.org/docs/latest/ml-collaborative-filtering.html)\n",
        "- calcolare il RMSE sul test set\n",
        "- produrre le top k raccomandazioni per ogni utente (k=10)\n",
        "\n",
        "\n"
      ],
      "metadata": {
        "id": "feXutsKZ2qpY"
      }
    },
    {
      "cell_type": "code",
      "source": [
        "ratings = training.union(test)\n",
        "ratings.printSchema()"
      ],
      "metadata": {
        "id": "fo1W9gfInPsk",
        "outputId": "7bfc3300-86cc-4b49-802e-daae4c45f653",
        "colab": {
          "base_uri": "https://localhost:8080/"
        }
      },
      "execution_count": 8,
      "outputs": [
        {
          "output_type": "stream",
          "name": "stdout",
          "text": [
            "root\n",
            " |-- user_id: integer (nullable = true)\n",
            " |-- item_id: integer (nullable = true)\n",
            " |-- rating: integer (nullable = true)\n",
            " |-- timestamp: integer (nullable = true)\n",
            "\n"
          ]
        }
      ]
    },
    {
      "cell_type": "markdown",
      "source": [
        "### Calcoliamo qualche statistica"
      ],
      "metadata": {
        "id": "ZNsasSMNmoRA"
      }
    },
    {
      "cell_type": "code",
      "source": [
        "n_revision_by_film = ratings.groupBy(\"item_id\").count()\n",
        "n_revision_by_film.show()\n",
        "\n",
        "mean_by_user = ratings.groupBy(\"user_id\").mean()\n",
        "mean_by_user.show()\n",
        "\n",
        "mean_by_film = ratings.groupBy(\"item_id\").mean()\n",
        "mean_by_film.show()"
      ],
      "metadata": {
        "id": "_q1_Hma-lDQB",
        "outputId": "a7a79700-f827-4ace-b88d-5c0ff17c0419",
        "colab": {
          "base_uri": "https://localhost:8080/"
        }
      },
      "execution_count": 9,
      "outputs": [
        {
          "output_type": "stream",
          "name": "stdout",
          "text": [
            "+-------+-----+\n",
            "|item_id|count|\n",
            "+-------+-----+\n",
            "|    496|  231|\n",
            "|    463|   71|\n",
            "|    471|  221|\n",
            "|    833|   49|\n",
            "|    148|  128|\n",
            "|   1088|   13|\n",
            "|   1238|    8|\n",
            "|   1580|    1|\n",
            "|   1591|    6|\n",
            "|   1645|    1|\n",
            "|   1342|    2|\n",
            "|    392|   68|\n",
            "|    540|   43|\n",
            "|    243|  132|\n",
            "|    737|   59|\n",
            "|    897|    2|\n",
            "|    858|    3|\n",
            "|   1084|   21|\n",
            "|    623|   39|\n",
            "|   1025|   44|\n",
            "+-------+-----+\n",
            "only showing top 20 rows\n",
            "\n",
            "+-------+------------+------------------+------------------+-------------------+\n",
            "|user_id|avg(user_id)|      avg(item_id)|       avg(rating)|     avg(timestamp)|\n",
            "+-------+------------+------------------+------------------+-------------------+\n",
            "|    148|       148.0|315.03076923076924|               4.0|8.771647431230769E8|\n",
            "|    463|       463.0|  515.187969924812|2.8646616541353382|8.821840331578947E8|\n",
            "|    471|       471.0| 411.1290322580645|3.3870967741935485|8.898279313225807E8|\n",
            "|    496|       496.0|  433.015503875969|3.0310077519379846|8.760676046279069E8|\n",
            "|    833|       833.0| 450.0262172284644| 3.056179775280899|8.758985462771536E8|\n",
            "|    243|       243.0| 405.7901234567901|3.6419753086419755|8.799881609753087E8|\n",
            "|    392|       392.0| 402.2522522522523| 4.045045045045045|8.910382492342342E8|\n",
            "|    540|       540.0| 366.5238095238095|3.7142857142857144|8.821572102063493E8|\n",
            "|    623|       623.0|303.93333333333334|3.7333333333333334|8.910342708444444E8|\n",
            "|    737|       737.0| 188.1818181818182|3.9696969696969697|8.843148766969697E8|\n",
            "|    858|       858.0| 404.5238095238095|3.4285714285714284|8.801609844285715E8|\n",
            "|    897|       897.0|  380.227027027027| 3.962162162162162|8.799931910594594E8|\n",
            "|     31|        31.0|458.30555555555554|3.9166666666666665|8.815479556666666E8|\n",
            "|    516|       516.0| 358.6666666666667| 4.095238095238095|8.912906182380953E8|\n",
            "|     85|        85.0|444.80902777777777|3.5381944444444446|8.807872545763888E8|\n",
            "|    137|       137.0| 343.2340425531915| 4.319148936170213|8.814916690638298E8|\n",
            "|    251|       251.0|342.31168831168833| 3.792207792207792|8.862720954415585E8|\n",
            "|    451|       451.0| 614.0714285714286|2.7346938775510203|8.790126725408163E8|\n",
            "|    580|       580.0|             354.0|3.5531914893617023| 8.84125202106383E8|\n",
            "|    808|       808.0|408.95652173913044| 4.130434782608695|       8.83949817E8|\n",
            "+-------+------------+------------------+------------------+-------------------+\n",
            "only showing top 20 rows\n",
            "\n",
            "+-------+------------------+------------+------------------+-------------------+\n",
            "|item_id|      avg(user_id)|avg(item_id)|       avg(rating)|     avg(timestamp)|\n",
            "+-------+------------------+------------+------------------+-------------------+\n",
            "|    496| 479.5541125541126|       496.0| 4.121212121212121|8.834075530346321E8|\n",
            "|    463|413.88732394366195|       463.0| 3.859154929577465|8.835642413521127E8|\n",
            "|    471|480.42986425339365|       471.0|3.6108597285067874|8.825455640678734E8|\n",
            "|    833|448.53061224489795|       833.0| 3.204081632653061|8.820745991020408E8|\n",
            "|    148|       458.2890625|       148.0|          3.203125| 8.82992796296875E8|\n",
            "|   1088| 450.3076923076923|      1088.0| 2.230769230769231|8.826550739230769E8|\n",
            "|   1238|           493.375|      1238.0|             3.125|    8.87964611125E8|\n",
            "|   1580|             405.0|      1580.0|               1.0|       8.85549543E8|\n",
            "|   1591| 569.3333333333334|      1591.0|3.1666666666666665|8.878335016666666E8|\n",
            "|   1645|             655.0|      1645.0|               4.0|       8.92871225E8|\n",
            "|   1342|             421.5|      1342.0|               2.5|        8.7976614E8|\n",
            "|    392|424.47058823529414|       392.0|3.5441176470588234|8.836319664264706E8|\n",
            "|    540| 425.8139534883721|       540.0| 2.511627906976744|8.819502968372093E8|\n",
            "|    243|  463.780303030303|       243.0|2.4393939393939394|     8.8393437175E8|\n",
            "|    737| 447.4237288135593|       737.0| 2.983050847457627|8.833747679661016E8|\n",
            "|    897|             251.0|       897.0|               1.5|      8.892004935E8|\n",
            "|    858|146.33333333333334|       858.0|               1.0|       8.80965787E8|\n",
            "|   1084| 457.5238095238095|      1084.0| 3.857142857142857|8.826737414761904E8|\n",
            "|    623| 514.3846153846154|       623.0| 2.923076923076923|8.834674074102564E8|\n",
            "|   1025| 513.1590909090909|      1025.0|2.9318181818181817|8.843232986136364E8|\n",
            "+-------+------------------+------------+------------------+-------------------+\n",
            "only showing top 20 rows\n",
            "\n"
          ]
        }
      ]
    },
    {
      "cell_type": "markdown",
      "source": [
        "### Addestramento modello ALS"
      ],
      "metadata": {
        "id": "ZwmqZ8e8pfwP"
      }
    },
    {
      "cell_type": "code",
      "source": [
        "from pyspark.ml.recommendation import ALS\n",
        "als = ALS(maxIter=5, regParam=0.01, userCol=\"user_id\", itemCol=\"item_id\", ratingCol=\"rating\", coldStartStrategy=\"drop\")\n",
        "model = als.fit(training)"
      ],
      "metadata": {
        "id": "aLsBGFTpog9Q"
      },
      "execution_count": 18,
      "outputs": []
    },
    {
      "cell_type": "code",
      "source": [
        "model"
      ],
      "metadata": {
        "colab": {
          "base_uri": "https://localhost:8080/"
        },
        "id": "N6CSF31lqkQo",
        "outputId": "baa4051f-92c2-4194-ba24-33eee1f787b0"
      },
      "execution_count": 19,
      "outputs": [
        {
          "output_type": "execute_result",
          "data": {
            "text/plain": [
              "ALSModel: uid=ALS_b2f79cceb4b9, rank=10"
            ]
          },
          "metadata": {},
          "execution_count": 19
        }
      ]
    },
    {
      "cell_type": "markdown",
      "source": [
        "### Calcoliamo l'errore"
      ],
      "metadata": {
        "id": "vdpWXlGjqUUu"
      }
    },
    {
      "cell_type": "code",
      "source": [
        "from pyspark.ml.evaluation import RegressionEvaluator\n",
        "predictions = model.transform(test)\n",
        "evaluator = RegressionEvaluator(metricName=\"rmse\", labelCol=\"rating\", predictionCol=\"prediction\")\n",
        "rmse = evaluator.evaluate(predictions)\n",
        "print(\"Root-mean-square error = \" + str(rmse))"
      ],
      "metadata": {
        "colab": {
          "base_uri": "https://localhost:8080/"
        },
        "id": "TiKy92nGqMzp",
        "outputId": "14e90699-8372-4bac-afd2-0803034347f7"
      },
      "execution_count": 20,
      "outputs": [
        {
          "output_type": "stream",
          "name": "stdout",
          "text": [
            "Root-mean-square error = 1.1248474247333107\n"
          ]
        }
      ]
    },
    {
      "cell_type": "markdown",
      "source": [
        "### Calcoliamo le raccomandazioni"
      ],
      "metadata": {
        "id": "Wl4iVFiGqt_z"
      }
    },
    {
      "cell_type": "code",
      "source": [
        "k = 10\n",
        "user_recs = model.recommendForAllUsers(k)\n",
        "user_recs.show()"
      ],
      "metadata": {
        "colab": {
          "base_uri": "https://localhost:8080/"
        },
        "id": "hhDwxhMDqv_4",
        "outputId": "569f38c9-5131-43c3-f78a-c4e5703e009f"
      },
      "execution_count": 21,
      "outputs": [
        {
          "output_type": "stream",
          "name": "stdout",
          "text": [
            "+-------+--------------------+\n",
            "|user_id|     recommendations|\n",
            "+-------+--------------------+\n",
            "|      1|[{854, 7.351436},...|\n",
            "|      3|[{1428, 9.875046}...|\n",
            "|      5|[{1184, 8.137185}...|\n",
            "|      6|[{1126, 6.383986}...|\n",
            "|      9|[{446, 13.307565}...|\n",
            "|     12|[{982, 7.3987474}...|\n",
            "|     13|[{1280, 7.1823993...|\n",
            "|     15|[{1062, 8.90009},...|\n",
            "|     16|[{703, 8.239677},...|\n",
            "|     17|[{914, 10.175524}...|\n",
            "|     19|[{1174, 8.572823}...|\n",
            "|     20|[{1036, 9.9008045...|\n",
            "|     22|[{1434, 9.534663}...|\n",
            "|     26|[{904, 5.4380465}...|\n",
            "|     27|[{1428, 9.950672}...|\n",
            "|     28|[{1131, 7.885643}...|\n",
            "|     31|[{103, 6.409612},...|\n",
            "|     34|[{1131, 15.608356...|\n",
            "|     35|[{974, 9.207007},...|\n",
            "|     37|[{1131, 8.719027}...|\n",
            "+-------+--------------------+\n",
            "only showing top 20 rows\n",
            "\n"
          ]
        }
      ]
    },
    {
      "cell_type": "code",
      "source": [
        "exploded_recs = user_recs.select(\n",
        "    col(\"user_id\"),\n",
        "    explode(col(\"recommendations\")).alias(\"recommendation_item\")\n",
        ")\n",
        "\n",
        "exploded_recs = exploded_recs.select(\n",
        "    col(\"user_id\"),\n",
        "    col(\"recommendation_item.item_id\").alias(\"item_id\"),\n",
        "    col(\"recommendation_item.rating\").alias(\"predicted_rating\")\n",
        ")\n",
        "\n",
        "joined_recs = exploded_recs.join(\n",
        "    items,\n",
        "    on=\"item_id\",\n",
        "    how=\"inner\"\n",
        ")\n",
        "\n",
        "joined_recs.orderBy(\n",
        "      col(\"user_id\").asc(),\n",
        "      col(\"predicted_rating\").desc()\n",
        "  ).show(truncate=False)"
      ],
      "metadata": {
        "colab": {
          "base_uri": "https://localhost:8080/"
        },
        "id": "OKa2SVU_tYme",
        "outputId": "4fbb5820-08a9-4805-eb78-9288cf7ac568"
      },
      "execution_count": 28,
      "outputs": [
        {
          "output_type": "stream",
          "name": "stdout",
          "text": [
            "+-------+-------+----------------+------------------------------------------------------------------+\n",
            "|item_id|user_id|predicted_rating|movie                                                             |\n",
            "+-------+-------+----------------+------------------------------------------------------------------+\n",
            "|854    |1      |7.351436        |Bad Taste (1987)                                                  |\n",
            "|1160   |1      |7.1268516       |Love! Valour! Compassion! (1997)                                  |\n",
            "|1643   |1      |6.813043        |Angel Baby (1995)                                                 |\n",
            "|1192   |1      |6.4859266       |Boys of St. Vincent, The (1993)                                   |\n",
            "|1368   |1      |6.3977532       |Mina Tannenbaum (1994)                                            |\n",
            "|904    |1      |6.376305        |Ma vie en rose (My Life in Pink) (1997)                           |\n",
            "|1631   |1      |6.3331857       |Slingshot, The (1993)                                             |\n",
            "|1449   |1      |6.2974987       |Pather Panchali (1955)                                            |\n",
            "|1131   |1      |6.166474        |Safe (1995)                                                       |\n",
            "|960    |1      |6.043529        |Naked (1993)                                                      |\n",
            "|1159   |2      |7.926217        |Stalker (1979)                                                    |\n",
            "|1288   |2      |7.131565        |Denise Calls Up (1995)                                            |\n",
            "|904    |2      |6.964528        |Ma vie en rose (My Life in Pink) (1997)                           |\n",
            "|854    |2      |6.7686615       |Bad Taste (1987)                                                  |\n",
            "|1022   |2      |6.714026        |Fast, Cheap & Out of Control (1997)                               |\n",
            "|1066   |2      |6.6019235       |Balto (1995)                                                      |\n",
            "|1005   |2      |6.582126        |Double vie de V�ronique, La (Double Life of Veronique, The) (1991)|\n",
            "|115    |2      |6.497111        |Haunted World of Edward D. Wood Jr., The (1995)                   |\n",
            "|889    |2      |6.4327135       |Tango Lesson, The (1997)                                          |\n",
            "|1449   |2      |6.380371        |Pather Panchali (1955)                                            |\n",
            "+-------+-------+----------------+------------------------------------------------------------------+\n",
            "only showing top 20 rows\n",
            "\n"
          ]
        }
      ]
    }
  ]
}