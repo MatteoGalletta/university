{
 "cells": [
  {
   "cell_type": "code",
   "execution_count": 4,
   "id": "05f87f9d",
   "metadata": {},
   "outputs": [
    {
     "name": "stdout",
     "output_type": "stream",
     "text": [
      "Collecting matplotlib\n",
      "  Downloading matplotlib-3.10.1-cp313-cp313-manylinux_2_17_x86_64.manylinux2014_x86_64.whl.metadata (11 kB)\n",
      "Collecting contourpy>=1.0.1 (from matplotlib)\n",
      "  Using cached contourpy-1.3.1-cp313-cp313-manylinux_2_17_x86_64.manylinux2014_x86_64.whl.metadata (5.4 kB)\n",
      "Collecting cycler>=0.10 (from matplotlib)\n",
      "  Using cached cycler-0.12.1-py3-none-any.whl.metadata (3.8 kB)\n",
      "Collecting fonttools>=4.22.0 (from matplotlib)\n",
      "  Using cached fonttools-4.56.0-cp313-cp313-manylinux_2_5_x86_64.manylinux1_x86_64.manylinux_2_17_x86_64.manylinux2014_x86_64.whl.metadata (101 kB)\n",
      "Collecting kiwisolver>=1.3.1 (from matplotlib)\n",
      "  Using cached kiwisolver-1.4.8-cp313-cp313-manylinux_2_17_x86_64.manylinux2014_x86_64.whl.metadata (6.2 kB)\n",
      "Collecting numpy>=1.23 (from matplotlib)\n",
      "  Using cached numpy-2.2.4-cp313-cp313-manylinux_2_17_x86_64.manylinux2014_x86_64.whl.metadata (62 kB)\n",
      "Requirement already satisfied: packaging>=20.0 in ./.venv/lib/python3.13/site-packages (from matplotlib) (24.2)\n",
      "Collecting pillow>=8 (from matplotlib)\n",
      "  Using cached pillow-11.1.0-cp313-cp313-manylinux_2_28_x86_64.whl.metadata (9.1 kB)\n",
      "Collecting pyparsing>=2.3.1 (from matplotlib)\n",
      "  Downloading pyparsing-3.2.3-py3-none-any.whl.metadata (5.0 kB)\n",
      "Requirement already satisfied: python-dateutil>=2.7 in ./.venv/lib/python3.13/site-packages (from matplotlib) (2.9.0.post0)\n",
      "Requirement already satisfied: six>=1.5 in ./.venv/lib/python3.13/site-packages (from python-dateutil>=2.7->matplotlib) (1.17.0)\n",
      "Downloading matplotlib-3.10.1-cp313-cp313-manylinux_2_17_x86_64.manylinux2014_x86_64.whl (8.6 MB)\n",
      "\u001b[2K   \u001b[90m━━━━━━━━━━━━━━━━━━━━━━━━━━━━━━━━━━━━━━━━\u001b[0m \u001b[32m8.6/8.6 MB\u001b[0m \u001b[31m6.3 MB/s\u001b[0m eta \u001b[36m0:00:00\u001b[0ma \u001b[36m0:00:01\u001b[0m\n",
      "\u001b[?25hUsing cached contourpy-1.3.1-cp313-cp313-manylinux_2_17_x86_64.manylinux2014_x86_64.whl (322 kB)\n",
      "Using cached cycler-0.12.1-py3-none-any.whl (8.3 kB)\n",
      "Using cached fonttools-4.56.0-cp313-cp313-manylinux_2_5_x86_64.manylinux1_x86_64.manylinux_2_17_x86_64.manylinux2014_x86_64.whl (4.8 MB)\n",
      "Using cached kiwisolver-1.4.8-cp313-cp313-manylinux_2_17_x86_64.manylinux2014_x86_64.whl (1.5 MB)\n",
      "Using cached numpy-2.2.4-cp313-cp313-manylinux_2_17_x86_64.manylinux2014_x86_64.whl (16.1 MB)\n",
      "Using cached pillow-11.1.0-cp313-cp313-manylinux_2_28_x86_64.whl (4.5 MB)\n",
      "Downloading pyparsing-3.2.3-py3-none-any.whl (111 kB)\n",
      "Installing collected packages: pyparsing, pillow, numpy, kiwisolver, fonttools, cycler, contourpy, matplotlib\n",
      "Successfully installed contourpy-1.3.1 cycler-0.12.1 fonttools-4.56.0 kiwisolver-1.4.8 matplotlib-3.10.1 numpy-2.2.4 pillow-11.1.0 pyparsing-3.2.3\n",
      "\n",
      "\u001b[1m[\u001b[0m\u001b[34;49mnotice\u001b[0m\u001b[1;39;49m]\u001b[0m\u001b[39;49m A new release of pip is available: \u001b[0m\u001b[31;49m24.3.1\u001b[0m\u001b[39;49m -> \u001b[0m\u001b[32;49m25.0.1\u001b[0m\n",
      "\u001b[1m[\u001b[0m\u001b[34;49mnotice\u001b[0m\u001b[1;39;49m]\u001b[0m\u001b[39;49m To update, run: \u001b[0m\u001b[32;49mpip install --upgrade pip\u001b[0m\n",
      "Note: you may need to restart the kernel to use updated packages.\n"
     ]
    }
   ],
   "source": [
    "%pip install matplotlib"
   ]
  },
  {
   "cell_type": "code",
   "execution_count": 7,
   "id": "91eb2169",
   "metadata": {},
   "outputs": [],
   "source": [
    "import sys\n",
    "import time\n",
    "import math\n",
    "sys.path.append(\"../attachments/repo\")\n",
    "\n",
    "from lib.data.dataplot import *\n",
    "from lib.utils.time import *\n",
    "from lib.system.cart import *\n",
    "from lib.system.basic import *"
   ]
  },
  {
   "cell_type": "code",
   "execution_count": 27,
   "id": "2702b68c",
   "metadata": {},
   "outputs": [],
   "source": [
    "class SystemSecondNewtonLaw:\n",
    "\n",
    "\tdef __init__(self, L, R):\n",
    "\t\tself.I = 0\n",
    "\t\tself.L = L\n",
    "\t\tself.R = R\n",
    "\n",
    "\tdef evaluate(self, delta_t, _input):\n",
    "\t\tout = _input / self.L * delta_t + self.I * (1 - self.R * delta_t / self.L)\n",
    "\n",
    "\t\tself.I = out\n",
    "\t\treturn self.I\n",
    "\n",
    "class ElectricMotor:\n",
    "\n",
    "\tdef __init__(self, L, R, b, J, Kt, Ke):\n",
    "\t\tself.S1 = SystemSecondNewtonLaw(L, R)\n",
    "\t\tself.S2 = Proportional(Kt)\n",
    "\t\tself.S3 = SystemSecondNewtonLaw(J, b)\n",
    "\t\tself.S4 = Proportional(Ke)\n",
    "\t\tself.w = 0\n",
    "\t\n",
    "\tdef evaluate(self, delta_t, _input):\n",
    "\t\ts1_out = self.S1.evaluate(delta_t, _input - self.w)\n",
    "\t\ts2_out = self.S2.evaluate(delta_t, s1_out)\n",
    "\t\ts3_out = self.S3.evaluate(delta_t, s2_out)\n",
    "\n",
    "\t\tself.w = self.S4.evaluate(delta_t, s3_out)\n",
    "\t\treturn s3_out"
   ]
  },
  {
   "cell_type": "code",
   "execution_count": 32,
   "id": "05c8666d-e08e-466d-b97f-b40742f33100",
   "metadata": {},
   "outputs": [
    {
     "data": {
      "image/png": "[encoded data removed]",
      "text/plain": [
       "<Figure size 640x480 with 1 Axes>"
      ]
     },
     "metadata": {},
     "output_type": "display_data"
    }
   ],
   "source": [
    "dp = DataPlotter()\n",
    "dp.set_x(\"time (seconds)\")\n",
    "dp.add_y(\"ang\", \"Angular Velocity\")\n",
    "\n",
    "motor = ElectricMotor(\n",
    "    L=130e-6,\n",
    "    R=1.45,\n",
    "    b=7*1e-5,\n",
    "    J=0.5*0.1*0.05**2,\n",
    "    Kt=0.0169,\n",
    "    Ke=0.00177*60/(2*math.pi))\n",
    "\n",
    "tension = 12\n",
    "\n",
    "delta_t = 0.1 / 1000\n",
    "t = 0\n",
    "while t < 5:\n",
    "    \n",
    "    w = motor.evaluate(delta_t, tension)\n",
    "    \n",
    "    dp.append_x(t)\n",
    "    dp.append_y(\"ang\", w)\n",
    "\n",
    "    t += delta_t\n",
    "\n",
    "dp.plot()\n"
   ]
  }
 ],
 "metadata": {
  "kernelspec": {
   "display_name": ".venv",
   "language": "python",
   "name": "python3"
  },
  "language_info": {
   "codemirror_mode": {
    "name": "ipython",
    "version": 3
   },
   "file_extension": ".py",
   "mimetype": "text/x-python",
   "name": "python",
   "nbconvert_exporter": "python",
   "pygments_lexer": "ipython3",
   "version": "3.13.2"
  }
 },
 "nbformat": 4,
 "nbformat_minor": 5
}
