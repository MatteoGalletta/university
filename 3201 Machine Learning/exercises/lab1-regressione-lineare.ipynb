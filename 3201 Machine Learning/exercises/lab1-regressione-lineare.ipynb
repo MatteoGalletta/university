{
  "cells": [
    {
      "cell_type": "code",
      "execution_count": 9,
      "metadata": {},
      "outputs": [
        {
          "name": "stdout",
          "output_type": "stream",
          "text": [
            "Requirement already satisfied: scikit-learn in ./.venv/lib/python3.13/site-packages (1.6.1)\n",
            "Requirement already satisfied: numpy in ./.venv/lib/python3.13/site-packages (2.2.4)\n",
            "Requirement already satisfied: pandas in ./.venv/lib/python3.13/site-packages (2.2.3)\n",
            "Collecting torch\n",
            "  Downloading torch-2.6.0-cp313-cp313-manylinux1_x86_64.whl.metadata (28 kB)\n",
            "Requirement already satisfied: scipy>=1.6.0 in ./.venv/lib/python3.13/site-packages (from scikit-learn) (1.15.2)\n",
            "Requirement already satisfied: joblib>=1.2.0 in ./.venv/lib/python3.13/site-packages (from scikit-learn) (1.4.2)\n",
            "Requirement already satisfied: threadpoolctl>=3.1.0 in ./.venv/lib/python3.13/site-packages (from scikit-learn) (3.6.0)\n",
            "Requirement already satisfied: python-dateutil>=2.8.2 in ./.venv/lib/python3.13/site-packages (from pandas) (2.9.0.post0)\n",
            "Requirement already satisfied: pytz>=2020.1 in ./.venv/lib/python3.13/site-packages (from pandas) (2025.2)\n",
            "Requirement already satisfied: tzdata>=2022.7 in ./.venv/lib/python3.13/site-packages (from pandas) (2025.2)\n",
            "Collecting filelock (from torch)\n",
            "  Downloading filelock-3.18.0-py3-none-any.whl.metadata (2.9 kB)\n",
            "Collecting typing-extensions>=4.10.0 (from torch)\n",
            "  Downloading typing_extensions-4.13.0-py3-none-any.whl.metadata (3.0 kB)\n",
            "Collecting networkx (from torch)\n",
            "  Downloading networkx-3.4.2-py3-none-any.whl.metadata (6.3 kB)\n",
            "Collecting jinja2 (from torch)\n",
            "  Downloading jinja2-3.1.6-py3-none-any.whl.metadata (2.9 kB)\n",
            "Collecting fsspec (from torch)\n",
            "  Downloading fsspec-2025.3.0-py3-none-any.whl.metadata (11 kB)\n",
            "Collecting nvidia-cuda-nvrtc-cu12==12.4.127 (from torch)\n",
            "  Downloading nvidia_cuda_nvrtc_cu12-12.4.127-py3-none-manylinux2014_x86_64.whl.metadata (1.5 kB)\n",
            "Collecting nvidia-cuda-runtime-cu12==12.4.127 (from torch)\n",
            "  Downloading nvidia_cuda_runtime_cu12-12.4.127-py3-none-manylinux2014_x86_64.whl.metadata (1.5 kB)\n",
            "Collecting nvidia-cuda-cupti-cu12==12.4.127 (from torch)\n",
            "  Downloading nvidia_cuda_cupti_cu12-12.4.127-py3-none-manylinux2014_x86_64.whl.metadata (1.6 kB)\n",
            "Collecting nvidia-cudnn-cu12==9.1.0.70 (from torch)\n",
            "  Downloading nvidia_cudnn_cu12-9.1.0.70-py3-none-manylinux2014_x86_64.whl.metadata (1.6 kB)\n",
            "Collecting nvidia-cublas-cu12==12.4.5.8 (from torch)\n",
            "  Downloading nvidia_cublas_cu12-12.4.5.8-py3-none-manylinux2014_x86_64.whl.metadata (1.5 kB)\n",
            "Collecting nvidia-cufft-cu12==11.2.1.3 (from torch)\n",
            "  Downloading nvidia_cufft_cu12-11.2.1.3-py3-none-manylinux2014_x86_64.whl.metadata (1.5 kB)\n",
            "Collecting nvidia-curand-cu12==10.3.5.147 (from torch)\n",
            "  Downloading nvidia_curand_cu12-10.3.5.147-py3-none-manylinux2014_x86_64.whl.metadata (1.5 kB)\n",
            "Collecting nvidia-cusolver-cu12==11.6.1.9 (from torch)\n",
            "  Downloading nvidia_cusolver_cu12-11.6.1.9-py3-none-manylinux2014_x86_64.whl.metadata (1.6 kB)\n",
            "Collecting nvidia-cusparse-cu12==12.3.1.170 (from torch)\n",
            "  Downloading nvidia_cusparse_cu12-12.3.1.170-py3-none-manylinux2014_x86_64.whl.metadata (1.6 kB)\n",
            "Collecting nvidia-cusparselt-cu12==0.6.2 (from torch)\n",
            "  Downloading nvidia_cusparselt_cu12-0.6.2-py3-none-manylinux2014_x86_64.whl.metadata (6.8 kB)\n",
            "Collecting nvidia-nccl-cu12==2.21.5 (from torch)\n",
            "  Downloading nvidia_nccl_cu12-2.21.5-py3-none-manylinux2014_x86_64.whl.metadata (1.8 kB)\n",
            "Collecting nvidia-nvtx-cu12==12.4.127 (from torch)\n",
            "  Downloading nvidia_nvtx_cu12-12.4.127-py3-none-manylinux2014_x86_64.whl.metadata (1.7 kB)\n",
            "Collecting nvidia-nvjitlink-cu12==12.4.127 (from torch)\n",
            "  Downloading nvidia_nvjitlink_cu12-12.4.127-py3-none-manylinux2014_x86_64.whl.metadata (1.5 kB)\n",
            "Collecting triton==3.2.0 (from torch)\n",
            "  Downloading triton-3.2.0-cp313-cp313-manylinux_2_17_x86_64.manylinux2014_x86_64.whl.metadata (1.4 kB)\n",
            "Collecting setuptools (from torch)\n",
            "  Downloading setuptools-78.1.0-py3-none-any.whl.metadata (6.6 kB)\n",
            "Collecting sympy==1.13.1 (from torch)\n",
            "  Downloading sympy-1.13.1-py3-none-any.whl.metadata (12 kB)\n",
            "Collecting mpmath<1.4,>=1.1.0 (from sympy==1.13.1->torch)\n",
            "  Downloading mpmath-1.3.0-py3-none-any.whl.metadata (8.6 kB)\n",
            "Requirement already satisfied: six>=1.5 in ./.venv/lib/python3.13/site-packages (from python-dateutil>=2.8.2->pandas) (1.17.0)\n",
            "Collecting MarkupSafe>=2.0 (from jinja2->torch)\n",
            "  Downloading MarkupSafe-3.0.2-cp313-cp313-manylinux_2_17_x86_64.manylinux2014_x86_64.whl.metadata (4.0 kB)\n",
            "Downloading torch-2.6.0-cp313-cp313-manylinux1_x86_64.whl (766.6 MB)\n",
            "\u001b[2K   \u001b[91m━━━━━━━━━━━━━\u001b[0m\u001b[90m╺\u001b[0m\u001b[90m━━━━━━━━━━━━━━━━━━━━━━━━━\u001b[0m \u001b[32m257.7/766.6 MB\u001b[0m \u001b[31m589.9 kB/s\u001b[0m eta \u001b[36m0:14:23\u001b[0m^C\n",
            "\u001b[2K   \u001b[91m━━━━━━━━━━━━━\u001b[0m\u001b[90m╺\u001b[0m\u001b[90m━━━━━━━━━━━━━━━━━━━━━━━━━\u001b[0m \u001b[32m257.7/766.6 MB\u001b[0m \u001b[31m589.9 kB/s\u001b[0m eta \u001b[36m0:14:23\u001b[0m\n",
            "\u001b[?25h\n",
            "\u001b[1m[\u001b[0m\u001b[34;49mnotice\u001b[0m\u001b[1;39;49m]\u001b[0m\u001b[39;49m A new release of pip is available: \u001b[0m\u001b[31;49m24.3.1\u001b[0m\u001b[39;49m -> \u001b[0m\u001b[32;49m25.0.1\u001b[0m\n",
            "\u001b[1m[\u001b[0m\u001b[34;49mnotice\u001b[0m\u001b[1;39;49m]\u001b[0m\u001b[39;49m To update, run: \u001b[0m\u001b[32;49mpip install --upgrade pip\u001b[0m\n",
            "\u001b[31mERROR: Operation cancelled by user\u001b[0m\u001b[31m\n",
            "\u001b[0mNote: you may need to restart the kernel to use updated packages.\n"
          ]
        }
      ],
      "source": [
        "%pip install scikit-learn numpy pandas torch"
      ]
    },
    {
      "cell_type": "code",
      "execution_count": 5,
      "metadata": {
        "id": "051zQND3Iph4"
      },
      "outputs": [],
      "source": [
        "from sklearn.datasets import fetch_openml"
      ]
    },
    {
      "cell_type": "code",
      "execution_count": 6,
      "metadata": {
        "colab": {
          "base_uri": "https://localhost:8080/"
        },
        "id": "D4ru0IyRK6hN",
        "outputId": "09e687dc-4802-40e0-a3b2-92e5d23fbec4"
      },
      "outputs": [
        {
          "name": "stderr",
          "output_type": "stream",
          "text": [
            "/home/teogalletta/Documents/my-obsidian-vault/100 university/3201 Machine Learning/exercises/.venv/lib/python3.13/site-packages/sklearn/datasets/_openml.py:323: UserWarning: Multiple active versions of the dataset matching the name boston exist. Versions may be fundamentally different, returning version 1. Available versions:\n",
            "- version 1, status: active\n",
            "  url: https://www.openml.org/search?type=data&id=531\n",
            "- version 2, status: active\n",
            "  url: https://www.openml.org/search?type=data&id=853\n",
            "\n",
            "  warn(warning_msg)\n"
          ]
        },
        {
          "name": "stdout",
          "output_type": "stream",
          "text": [
            "**Author**:   \n",
            "**Source**: Unknown - Date unknown  \n",
            "**Please cite**:   \n",
            "\n",
            "The Boston house-price data of Harrison, D. and Rubinfeld, D.L. 'Hedonic\n",
            "prices and the demand for clean air', J. Environ. Economics & Management,\n",
            "vol.5, 81-102, 1978.   Used in Belsley, Kuh & Welsch, 'Regression diagnostics\n",
            "...', Wiley, 1980.   N.B. Various transformations are used in the table on\n",
            "pages 244-261 of the latter.\n",
            "Variables in order:\n",
            "CRIM     per capita crime rate by town\n",
            "ZN       proportion of residential land zoned for lots over 25,000 sq.ft.\n",
            "INDUS    proportion of non-retail business acres per town\n",
            "CHAS     Charles River dummy variable (= 1 if tract bounds river; 0 otherwise)\n",
            "NOX      nitric oxides concentration (parts per 10 million)\n",
            "RM       average number of rooms per dwelling\n",
            "AGE      proportion of owner-occupied units built prior to 1940\n",
            "DIS      weighted distances to five Boston employment centres\n",
            "RAD      index of accessibility to radial highways\n",
            "TAX      full-value property-tax rate per $10,000\n",
            "PTRATIO  pupil-teacher ratio by town\n",
            "B        1000(Bk - 0.63)^2 where Bk is the proportion of blacks by town\n",
            "LSTAT    % lower status of the population\n",
            "MEDV     Median value of owner-occupied homes in $1000's\n",
            "\n",
            "\n",
            "Information about the dataset\n",
            "CLASSTYPE: numeric\n",
            "CLASSINDEX: last\n",
            "\n",
            "Downloaded from openml.org.\n"
          ]
        }
      ],
      "source": [
        "boston = fetch_openml(name='boston')\n",
        "print(boston.DESCR)"
      ]
    },
    {
      "cell_type": "code",
      "execution_count": 7,
      "metadata": {
        "colab": {
          "base_uri": "https://localhost:8080/"
        },
        "id": "eVpWZnAkK_Pk",
        "outputId": "088ecf2b-00af-44d5-f24c-e633c67f9f98"
      },
      "outputs": [
        {
          "name": "stdout",
          "output_type": "stream",
          "text": [
            "(506, 13)\n",
            "(506,)\n"
          ]
        }
      ],
      "source": [
        "X = boston.data.to_numpy().astype(float)\n",
        "Y = boston.target.to_numpy().astype(float)\n",
        "\n",
        "print(X.shape)\n",
        "print(Y.shape)"
      ]
    },
    {
      "cell_type": "code",
      "execution_count": 8,
      "metadata": {
        "id": "T7FDVGjALN77"
      },
      "outputs": [
        {
          "ename": "ModuleNotFoundError",
          "evalue": "No module named 'torch'",
          "output_type": "error",
          "traceback": [
            "\u001b[31m---------------------------------------------------------------------------\u001b[39m",
            "\u001b[31mModuleNotFoundError\u001b[39m                       Traceback (most recent call last)",
            "\u001b[36mCell\u001b[39m\u001b[36m \u001b[39m\u001b[32mIn[8]\u001b[39m\u001b[32m, line 2\u001b[39m\n\u001b[32m      1\u001b[39m \u001b[38;5;28;01mimport\u001b[39;00m\u001b[38;5;250m \u001b[39m\u001b[34;01mnumpy\u001b[39;00m\u001b[38;5;250m \u001b[39m\u001b[38;5;28;01mas\u001b[39;00m\u001b[38;5;250m \u001b[39m\u001b[34;01mnp\u001b[39;00m\n\u001b[32m----> \u001b[39m\u001b[32m2\u001b[39m \u001b[38;5;28;01mimport\u001b[39;00m\u001b[38;5;250m \u001b[39m\u001b[34;01mtorch\u001b[39;00m\n\u001b[32m      4\u001b[39m np.random.seed(\u001b[32m123\u001b[39m)\n\u001b[32m      5\u001b[39m torch.random.manual_seed(\u001b[32m123\u001b[39m)\n",
            "\u001b[31mModuleNotFoundError\u001b[39m: No module named 'torch'"
          ]
        }
      ],
      "source": [
        "import numpy as np\n",
        "import torch\n",
        "\n",
        "np.random.seed(123)\n",
        "torch.random.manual_seed(123)\n",
        "idx = np.random.permutation(len(X))"
      ]
    },
    {
      "cell_type": "code",
      "execution_count": null,
      "metadata": {
        "id": "Y4e9upJSLjom"
      },
      "outputs": [],
      "source": [
        "X = X[idx]\n",
        "Y = Y[idx]"
      ]
    },
    {
      "cell_type": "code",
      "execution_count": null,
      "metadata": {
        "id": "eDUrUXvWLvnh"
      },
      "outputs": [],
      "source": [
        "X_training = torch.Tensor(X[50:])\n",
        "Y_training = torch.Tensor(Y[50:])\n",
        "\n",
        "X_testing = torch.Tensor(X[:50])\n",
        "Y_testing = torch.Tensor(Y[:50])"
      ]
    },
    {
      "cell_type": "code",
      "execution_count": null,
      "metadata": {
        "colab": {
          "base_uri": "https://localhost:8080/"
        },
        "id": "FPcVkCItMVEe",
        "outputId": "9a7171b4-823a-4c66-de08-1bec3acf8ee4"
      },
      "outputs": [
        {
          "data": {
            "text/plain": [
              "tensor([-0.0111,  0.0120, -0.0370, -0.0240, -0.1197,  0.0209, -0.0972, -0.0755,\n",
              "         0.0324, -0.0109,  0.0210, -0.0391,  0.0235], requires_grad=True)"
            ]
          },
          "execution_count": 18,
          "metadata": {},
          "output_type": "execute_result"
        }
      ],
      "source": [
        "theta = torch.Tensor(13)\n",
        "theta_0 = torch.Tensor(1)\n",
        "\n",
        "theta.requires_grad_(True)\n",
        "theta_0.requires_grad_(True)\n",
        "\n",
        "theta.data.normal_(0,0.1)\n",
        "theta_0.data.normal_(0,0.1)\n",
        "\n",
        "theta"
      ]
    },
    {
      "cell_type": "code",
      "execution_count": null,
      "metadata": {
        "id": "7iZ6AVLJNeuL"
      },
      "outputs": [],
      "source": [
        "def linear_regression(input, theta, theta_0):\n",
        "  return input.mul(theta).sum(1)+(theta_0)"
      ]
    },
    {
      "cell_type": "code",
      "execution_count": null,
      "metadata": {
        "colab": {
          "base_uri": "https://localhost:8080/"
        },
        "id": "bq9V_esYPjvN",
        "outputId": "fa98185e-737e-4257-9a74-2983d16d8a79"
      },
      "outputs": [
        {
          "name": "stdout",
          "output_type": "stream",
          "text": [
            "tensor([-20.8190, -23.3360, -24.6247, -31.4600, -27.4998, -28.1950, -27.1047,\n",
            "        -26.2724, -18.8539, -31.4594], grad_fn=<SliceBackward0>)\n"
          ]
        }
      ],
      "source": [
        "y = linear_regression(X_training, theta, theta_0)\n",
        "print(y[:10])"
      ]
    },
    {
      "cell_type": "code",
      "execution_count": null,
      "metadata": {
        "id": "gQsjOcWePuFX"
      },
      "outputs": [],
      "source": [
        "def loss(input, target):\n",
        "  return ((input-target)**2).mean()"
      ]
    },
    {
      "cell_type": "code",
      "execution_count": null,
      "metadata": {
        "colab": {
          "base_uri": "https://localhost:8080/"
        },
        "id": "VQPKl5d-Pycj",
        "outputId": "28583c07-9117-431c-8179-802f3d33b1b9"
      },
      "outputs": [
        {
          "name": "stdout",
          "output_type": "stream",
          "text": [
            "tensor(2274.0801, grad_fn=<MeanBackward0>)\n"
          ]
        }
      ],
      "source": [
        "print(loss(y, Y_training))"
      ]
    },
    {
      "cell_type": "markdown",
      "metadata": {
        "id": "OPwaV8rwP_RG"
      },
      "source": [
        "# Ottimizzazione pesi"
      ]
    },
    {
      "cell_type": "code",
      "execution_count": null,
      "metadata": {
        "colab": {
          "base_uri": "https://localhost:8080/"
        },
        "id": "pxCyNn1eP6oi",
        "outputId": "43d840da-d143-48e8-94b7-5cb7b133f507"
      },
      "outputs": [
        {
          "name": "stdout",
          "output_type": "stream",
          "text": [
            "tensor([3.5481e+00, 1.1293e+01, 1.1224e+01, 6.1404e-02, 5.5591e-01, 6.2701e+00,\n",
            "        6.8338e+01, 3.7963e+00, 9.5658e+00, 4.0893e+02, 1.8468e+01, 3.5775e+02,\n",
            "        1.2820e+01])\n",
            "tensor([8.4949e+00, 2.3287e+01, 6.9195e+00, 2.4033e-01, 1.1805e-01, 6.9616e-01,\n",
            "        2.8338e+01, 2.1295e+00, 8.7019e+00, 1.6880e+02, 2.1430e+00, 9.0201e+01,\n",
            "        7.1928e+00])\n"
          ]
        }
      ],
      "source": [
        "means = X_training.mean(0)\n",
        "stds = X_training.std(0)\n",
        "print(means)\n",
        "print(stds)"
      ]
    },
    {
      "cell_type": "code",
      "execution_count": null,
      "metadata": {
        "id": "kCV2wr4YQXCk"
      },
      "outputs": [],
      "source": [
        "X_training_norm = (X_training - means) / stds"
      ]
    },
    {
      "cell_type": "code",
      "execution_count": null,
      "metadata": {
        "colab": {
          "base_uri": "https://localhost:8080/"
        },
        "id": "MLJDfGApQbwK",
        "outputId": "9916d57a-e823-432a-f5bc-d0c6794be2be"
      },
      "outputs": [
        {
          "name": "stdout",
          "output_type": "stream",
          "text": [
            "tensor([ 0.0000e+00,  7.3199e-09,  1.2914e-07,  2.0914e-09,  3.1685e-07,\n",
            "        -4.2664e-07,  9.5158e-08,  1.2444e-07,  1.7777e-08,  2.1437e-08,\n",
            "        -2.1332e-07, -1.1503e-07,  1.6731e-07])\n",
            "tensor([1.0000, 1.0000, 1.0000, 1.0000, 1.0000, 1.0000, 1.0000, 1.0000, 1.0000,\n",
            "        1.0000, 1.0000, 1.0000, 1.0000])\n"
          ]
        }
      ],
      "source": [
        "print(X_training_norm.mean(0))\n",
        "print(X_training_norm.std(0))"
      ]
    },
    {
      "cell_type": "markdown",
      "metadata": {
        "id": "1OOmJ6KXSGBw"
      },
      "source": [
        "normalizzazione"
      ]
    },
    {
      "cell_type": "code",
      "execution_count": null,
      "metadata": {
        "colab": {
          "base_uri": "https://localhost:8080/"
        },
        "id": "4wNWU6XIQ4-y",
        "outputId": "9d0ff560-38fa-453c-d1cd-8d225a89196e"
      },
      "outputs": [
        {
          "name": "stdout",
          "output_type": "stream",
          "text": [
            "Epoch: 0 - Loss: 575.60\n",
            "Epoch: 1 - Loss: 357.54\n",
            "Epoch: 2 - Loss: 235.54\n",
            "Epoch: 3 - Loss: 158.49\n",
            "Epoch: 4 - Loss: 109.26\n",
            "Epoch: 5 - Loss: 77.76\n",
            "Epoch: 6 - Loss: 57.57\n",
            "Epoch: 7 - Loss: 44.62\n",
            "Epoch: 8 - Loss: 36.30\n",
            "Epoch: 9 - Loss: 30.95\n",
            "Epoch: 10 - Loss: 27.49\n",
            "Epoch: 11 - Loss: 25.24\n",
            "Epoch: 12 - Loss: 23.78\n",
            "Epoch: 13 - Loss: 22.82\n",
            "Epoch: 14 - Loss: 22.18\n",
            "Epoch: 15 - Loss: 21.75\n",
            "Epoch: 16 - Loss: 21.45\n",
            "Epoch: 17 - Loss: 21.25\n",
            "Epoch: 18 - Loss: 21.10\n",
            "Epoch: 19 - Loss: 20.98\n",
            "Epoch: 20 - Loss: 20.90\n",
            "Epoch: 21 - Loss: 20.83\n",
            "Epoch: 22 - Loss: 20.77\n",
            "Epoch: 23 - Loss: 20.72\n",
            "Epoch: 24 - Loss: 20.68\n",
            "Epoch: 25 - Loss: 20.64\n",
            "Epoch: 26 - Loss: 20.60\n",
            "Epoch: 27 - Loss: 20.57\n",
            "Epoch: 28 - Loss: 20.54\n",
            "Epoch: 29 - Loss: 20.51\n",
            "Epoch: 30 - Loss: 20.49\n",
            "Epoch: 31 - Loss: 20.46\n",
            "Epoch: 32 - Loss: 20.44\n",
            "Epoch: 33 - Loss: 20.42\n",
            "Epoch: 34 - Loss: 20.40\n",
            "Epoch: 35 - Loss: 20.38\n",
            "Epoch: 36 - Loss: 20.36\n",
            "Epoch: 37 - Loss: 20.34\n",
            "Epoch: 38 - Loss: 20.33\n",
            "Epoch: 39 - Loss: 20.31\n",
            "Epoch: 40 - Loss: 20.30\n",
            "Epoch: 41 - Loss: 20.28\n",
            "Epoch: 42 - Loss: 20.27\n",
            "Epoch: 43 - Loss: 20.26\n",
            "Epoch: 44 - Loss: 20.24\n",
            "Epoch: 45 - Loss: 20.23\n",
            "Epoch: 46 - Loss: 20.22\n",
            "Epoch: 47 - Loss: 20.21\n",
            "Epoch: 48 - Loss: 20.20\n",
            "Epoch: 49 - Loss: 20.19\n",
            "Epoch: 50 - Loss: 20.18\n",
            "Epoch: 51 - Loss: 20.17\n",
            "Epoch: 52 - Loss: 20.17\n",
            "Epoch: 53 - Loss: 20.16\n",
            "Epoch: 54 - Loss: 20.15\n",
            "Epoch: 55 - Loss: 20.14\n",
            "Epoch: 56 - Loss: 20.14\n",
            "Epoch: 57 - Loss: 20.13\n",
            "Epoch: 58 - Loss: 20.12\n",
            "Epoch: 59 - Loss: 20.12\n",
            "Epoch: 60 - Loss: 20.11\n",
            "Epoch: 61 - Loss: 20.11\n",
            "Epoch: 62 - Loss: 20.10\n",
            "Epoch: 63 - Loss: 20.09\n",
            "Epoch: 64 - Loss: 20.09\n",
            "Epoch: 65 - Loss: 20.08\n",
            "Epoch: 66 - Loss: 20.08\n",
            "Epoch: 67 - Loss: 20.08\n",
            "Epoch: 68 - Loss: 20.07\n",
            "Epoch: 69 - Loss: 20.07\n",
            "Epoch: 70 - Loss: 20.06\n",
            "Epoch: 71 - Loss: 20.06\n",
            "Epoch: 72 - Loss: 20.06\n",
            "Epoch: 73 - Loss: 20.05\n",
            "Epoch: 74 - Loss: 20.05\n",
            "Epoch: 75 - Loss: 20.05\n",
            "Epoch: 76 - Loss: 20.04\n",
            "Epoch: 77 - Loss: 20.04\n",
            "Epoch: 78 - Loss: 20.04\n",
            "Epoch: 79 - Loss: 20.03\n",
            "Epoch: 80 - Loss: 20.03\n",
            "Epoch: 81 - Loss: 20.03\n",
            "Epoch: 82 - Loss: 20.03\n",
            "Epoch: 83 - Loss: 20.02\n",
            "Epoch: 84 - Loss: 20.02\n",
            "Epoch: 85 - Loss: 20.02\n",
            "Epoch: 86 - Loss: 20.02\n",
            "Epoch: 87 - Loss: 20.01\n",
            "Epoch: 88 - Loss: 20.01\n",
            "Epoch: 89 - Loss: 20.01\n",
            "Epoch: 90 - Loss: 20.01\n",
            "Epoch: 91 - Loss: 20.01\n",
            "Epoch: 92 - Loss: 20.00\n",
            "Epoch: 93 - Loss: 20.00\n",
            "Epoch: 94 - Loss: 20.00\n",
            "Epoch: 95 - Loss: 20.00\n",
            "Epoch: 96 - Loss: 20.00\n",
            "Epoch: 97 - Loss: 19.99\n",
            "Epoch: 98 - Loss: 19.99\n",
            "Epoch: 99 - Loss: 19.99\n"
          ]
        }
      ],
      "source": [
        "lr = 0.1\n",
        "epochs = 100\n",
        "\n",
        "means = X_training.mean(0)\n",
        "stds = X_training.std(0)\n",
        "\n",
        "X_training_norm = (X_training-means) / stds\n",
        "X_testing_norm = (X_testing-means) / stds\n",
        "\n",
        "theta = torch.Tensor(13)\n",
        "theta_0 = torch.Tensor(1)\n",
        "theta.normal_(0,0.1)\n",
        "theta_0.normal_(0,0.1)\n",
        "theta.requires_grad_(True)\n",
        "theta_0.requires_grad_(True)\n",
        "\n",
        "losses = []\n",
        "for e in range(epochs):\n",
        "  y = linear_regression(X_training_norm, theta, theta_0)\n",
        "  l = loss(y, Y_training)\n",
        "  l.backward()\n",
        "\n",
        "  print(f\"Epoch: {e} - Loss: {l.item():0.2f}\")\n",
        "  losses.append(l.item())\n",
        "\n",
        "  theta.data.sub_(lr * theta.grad.data)\n",
        "  theta_0.data.sub_(lr * theta_0.grad.data)\n",
        "\n",
        "  theta.grad.data.zero_()\n",
        "  theta_0.grad.data.zero_()"
      ]
    },
    {
      "cell_type": "code",
      "execution_count": null,
      "metadata": {
        "colab": {
          "base_uri": "https://localhost:8080/",
          "height": 482
        },
        "id": "SxgEP0FrSHy0",
        "outputId": "1a80eed8-49cb-44e3-a2bb-71e70b97fa39"
      },
      "outputs": [
        {
          "data": {
            "image/png": "[encoded data removed]",
            "text/plain": [
              "<Figure size 1200x800 with 1 Axes>"
            ]
          },
          "metadata": {},
          "output_type": "display_data"
        }
      ],
      "source": [
        "from matplotlib import pyplot as plt\n",
        "plt.figure(figsize=(12,8))\n",
        "plt.plot(losses)\n",
        "plt.xlabel(\"Epoch\")\n",
        "plt.ylabel(\"Loss\")\n",
        "plt.grid()\n",
        "plt.show()"
      ]
    },
    {
      "cell_type": "code",
      "execution_count": null,
      "metadata": {
        "colab": {
          "base_uri": "https://localhost:8080/"
        },
        "id": "Ejgmi1wKWdW2",
        "outputId": "8bf18759-161b-496d-9f79-6bab2348bf68"
      },
      "outputs": [
        {
          "name": "stdout",
          "output_type": "stream",
          "text": [
            "Epoch: 0 - Loss: 578.13\n",
            "Epoch: 1 - Loss: 356.46\n",
            "Epoch: 2 - Loss: 234.65\n",
            "Epoch: 3 - Loss: 157.88\n",
            "Epoch: 4 - Loss: 108.85\n",
            "Epoch: 5 - Loss: 77.48\n",
            "Epoch: 6 - Loss: 57.39\n",
            "Epoch: 7 - Loss: 44.50\n",
            "Epoch: 8 - Loss: 36.22\n",
            "Epoch: 9 - Loss: 30.89\n",
            "Epoch: 10 - Loss: 27.45\n",
            "Epoch: 11 - Loss: 25.22\n",
            "Epoch: 12 - Loss: 23.77\n",
            "Epoch: 13 - Loss: 22.81\n",
            "Epoch: 14 - Loss: 22.18\n",
            "Epoch: 15 - Loss: 21.75\n",
            "Epoch: 16 - Loss: 21.46\n",
            "Epoch: 17 - Loss: 21.25\n",
            "Epoch: 18 - Loss: 21.10\n",
            "Epoch: 19 - Loss: 20.99\n",
            "Epoch: 20 - Loss: 20.90\n",
            "Epoch: 21 - Loss: 20.83\n",
            "Epoch: 22 - Loss: 20.78\n",
            "Epoch: 23 - Loss: 20.73\n",
            "Epoch: 24 - Loss: 20.68\n",
            "Epoch: 25 - Loss: 20.64\n",
            "Epoch: 26 - Loss: 20.61\n",
            "Epoch: 27 - Loss: 20.58\n",
            "Epoch: 28 - Loss: 20.55\n",
            "Epoch: 29 - Loss: 20.52\n",
            "Epoch: 30 - Loss: 20.49\n",
            "Epoch: 31 - Loss: 20.47\n",
            "Epoch: 32 - Loss: 20.45\n",
            "Epoch: 33 - Loss: 20.42\n",
            "Epoch: 34 - Loss: 20.40\n",
            "Epoch: 35 - Loss: 20.38\n",
            "Epoch: 36 - Loss: 20.37\n",
            "Epoch: 37 - Loss: 20.35\n",
            "Epoch: 38 - Loss: 20.33\n",
            "Epoch: 39 - Loss: 20.32\n",
            "Epoch: 40 - Loss: 20.30\n",
            "Epoch: 41 - Loss: 20.29\n",
            "Epoch: 42 - Loss: 20.27\n",
            "Epoch: 43 - Loss: 20.26\n",
            "Epoch: 44 - Loss: 20.25\n",
            "Epoch: 45 - Loss: 20.24\n",
            "Epoch: 46 - Loss: 20.23\n",
            "Epoch: 47 - Loss: 20.22\n",
            "Epoch: 48 - Loss: 20.21\n",
            "Epoch: 49 - Loss: 20.20\n"
          ]
        }
      ],
      "source": [
        "lr = 0.1\n",
        "epochs = 50\n",
        "\n",
        "means = X_training.mean(0)\n",
        "stds = X_training.std(0)\n",
        "\n",
        "X_training_norm = (X_training-means) / stds\n",
        "X_testing_norm = (X_testing-means) / stds\n",
        "\n",
        "theta = torch.Tensor(13)\n",
        "theta_0 = torch.Tensor(1)\n",
        "theta.normal_(0,0.1)\n",
        "theta_0.normal_(0,0.1)\n",
        "theta.requires_grad_(True)\n",
        "theta_0.requires_grad_(True)\n",
        "\n",
        "losses_training = []\n",
        "losses_testing = []\n",
        "for e in range(epochs):\n",
        "  y = linear_regression(X_training_norm, theta, theta_0)\n",
        "  l = loss(y, Y_training)\n",
        "  l.backward()\n",
        "\n",
        "  print(f\"Epoch: {e} - Loss: {l.item():0.2f}\")\n",
        "  losses_training.append(l.item())\n",
        "\n",
        "  theta.data.sub_(lr * theta.grad.data)\n",
        "  theta_0.data.sub_(lr * theta_0.grad.data)\n",
        "\n",
        "  theta.grad.data.zero_()\n",
        "  theta_0.grad.data.zero_()\n",
        "\n",
        "  with torch.set_grad_enabled(False):\n",
        "    y_test = linear_regression(X_testing_norm, theta, theta_0)\n",
        "    loss_test = loss(y_test, Y_testing)\n",
        "    losses_testing.append(loss_test.item())"
      ]
    },
    {
      "cell_type": "code",
      "execution_count": null,
      "metadata": {
        "colab": {
          "base_uri": "https://localhost:8080/",
          "height": 480
        },
        "id": "LeaA9BW0XIAj",
        "outputId": "9d290433-e0ee-440c-d0f6-e3fe98f85f27"
      },
      "outputs": [
        {
          "data": {
            "image/png": "[encoded data removed]",
            "text/plain": [
              "<Figure size 1200x800 with 1 Axes>"
            ]
          },
          "metadata": {},
          "output_type": "display_data"
        }
      ],
      "source": [
        "from matplotlib import pyplot as plt\n",
        "plt.figure(figsize=(12,8))\n",
        "plt.plot(losses_training)\n",
        "plt.plot(losses_testing)\n",
        "plt.xlabel(\"Epoch\")\n",
        "plt.ylabel(\"Loss\")\n",
        "plt.legend([\"Training\", \"Testing\"])\n",
        "plt.grid()\n",
        "plt.show()"
      ]
    },
    {
      "cell_type": "code",
      "execution_count": null,
      "metadata": {
        "id": "as2Y_fQmXun7"
      },
      "outputs": [],
      "source": []
    }
  ],
  "metadata": {
    "colab": {
      "provenance": []
    },
    "kernelspec": {
      "display_name": "Python 3",
      "name": "python3"
    },
    "language_info": {
      "codemirror_mode": {
        "name": "ipython",
        "version": 3
      },
      "file_extension": ".py",
      "mimetype": "text/x-python",
      "name": "python",
      "nbconvert_exporter": "python",
      "pygments_lexer": "ipython3",
      "version": "3.13.2"
    }
  },
  "nbformat": 4,
  "nbformat_minor": 0
}
